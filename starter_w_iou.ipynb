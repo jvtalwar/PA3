{
 "cells": [
  {
   "cell_type": "code",
   "execution_count": 1,
   "metadata": {},
   "outputs": [],
   "source": [
    "from torchvision import utils\n",
    "from basic_fcn import *\n",
    "from dataloader import *\n",
    "from utils import *\n",
    "import torchvision\n",
    "import torch.nn.functional as F\n",
    "import torch.optim as optim\n",
    "from torch.autograd import Variable\n",
    "import time\n",
    "import matplotlib.pyplot as plt"
   ]
  },
  {
   "cell_type": "code",
   "execution_count": 2,
   "metadata": {},
   "outputs": [],
   "source": [
    "batch = 4\n",
    "train_dataset = CityScapesDataset(csv_file='train.csv')\n",
    "val_dataset = CityScapesDataset(csv_file='val.csv')\n",
    "test_dataset = CityScapesDataset(csv_file='test.csv')\n",
    "train_loader = DataLoader(dataset=train_dataset,\n",
    "                          batch_size=batch,\n",
    "                          num_workers=4,\n",
    "                          shuffle=True)\n",
    "val_loader = DataLoader(dataset=val_dataset,\n",
    "                          batch_size=batch,\n",
    "                          num_workers=4,\n",
    "                          shuffle=True)\n",
    "test_loader = DataLoader(dataset=test_dataset,\n",
    "                          batch_size=batch,\n",
    "                          num_workers=4,\n",
    "                          shuffle=True)"
   ]
  },
  {
   "cell_type": "code",
   "execution_count": 3,
   "metadata": {},
   "outputs": [
    {
     "name": "stdout",
     "output_type": "stream",
     "text": [
      "Number of training examples: 2975\n",
      "Number of validation examples: 500\n",
      "Number of test examples: 1525\n"
     ]
    }
   ],
   "source": [
    "# Inspect DataLoader objects\n",
    "print(\"Number of training examples:\", len(train_dataset))\n",
    "print(\"Number of validation examples:\", len(val_dataset))\n",
    "print(\"Number of test examples:\", len(test_dataset))"
   ]
  },
  {
   "cell_type": "code",
   "execution_count": 4,
   "metadata": {},
   "outputs": [
    {
     "name": "stdout",
     "output_type": "stream",
     "text": [
      "Training set example image file: /datasets/cityscapes/leftImg8bit/train/aachen/aachen_000000_000019_leftImg8bit.png\n",
      "Training set example label file: /datasets/cityscapes/gtFine/train/aachen/aachen_000000_000019_gtFine_labelIds.png\n",
      "Size of the image tensor: torch.Size([3, 1024, 2048])\n",
      "Size of the one-hot target tensor: torch.Size([34, 1024, 2048])\n",
      "Size of the label tensor: torch.Size([1024, 2048])\n",
      "tensor([[3, 3, 3,  ..., 3, 3, 3],\n",
      "        [3, 3, 3,  ..., 3, 3, 3],\n",
      "        [3, 3, 3,  ..., 3, 3, 3],\n",
      "        ...,\n",
      "        [3, 3, 3,  ..., 3, 3, 3],\n",
      "        [3, 3, 3,  ..., 3, 3, 3],\n",
      "        [3, 3, 3,  ..., 3, 3, 3]])\n"
     ]
    }
   ],
   "source": [
    "# Look at a dataset data\n",
    "example = train_dataset[0]\n",
    "print(\"Training set example image file:\", train_dataset.data.iloc[0][0])\n",
    "print(\"Training set example label file:\", train_dataset.data.iloc[0][1])\n",
    "print(\"Size of the image tensor:\", example[0].size())\n",
    "print(\"Size of the one-hot target tensor:\", example[1].size())\n",
    "print(\"Size of the label tensor:\", example[2].size())\n",
    "print(example[2])"
   ]
  },
  {
   "cell_type": "code",
   "execution_count": 5,
   "metadata": {},
   "outputs": [
    {
     "name": "stdout",
     "output_type": "stream",
     "text": [
      "torch.Size([4, 3, 1024, 2048])\n",
      "torch.Size([4, 34, 1024, 2048])\n",
      "torch.Size([4, 1024, 2048])\n"
     ]
    }
   ],
   "source": [
    "for i_batch, sample_batched in enumerate(train_loader):\n",
    "    print(sample_batched[0].size())\n",
    "    print(sample_batched[1].size())\n",
    "    print(sample_batched[2].size())\n",
    "    break"
   ]
  },
  {
   "cell_type": "code",
   "execution_count": 6,
   "metadata": {},
   "outputs": [],
   "source": [
    "def init_weights(m):\n",
    "    if isinstance(m, nn.Conv2d) or isinstance(m, nn.ConvTranspose2d):\n",
    "        torch.nn.init.xavier_uniform_(m.weight.data)\n",
    "        torch.nn.init.xavier_uniform_(m.bias.data.unsqueeze(0)) #add unsqueeze here \n",
    "        \n",
    "epochs     = 1\n",
    "criterion = nn.CrossEntropyLoss()\n",
    "fcn_model = FCN(n_class=n_class)\n",
    "fcn_model.apply(init_weights)\n",
    "#fcn_model = torch.load('best_model')\n",
    "optimizer = optim.Adam(fcn_model.parameters(), lr=5e-3)"
   ]
  },
  {
   "cell_type": "code",
   "execution_count": 7,
   "metadata": {},
   "outputs": [
    {
     "name": "stdout",
     "output_type": "stream",
     "text": [
      "Current memory allocation: 0\n"
     ]
    }
   ],
   "source": [
    "print(\"Current memory allocation:\", torch.cuda.memory_allocated())"
   ]
  },
  {
   "cell_type": "code",
   "execution_count": 8,
   "metadata": {},
   "outputs": [],
   "source": [
    "use_gpu = torch.cuda.is_available()\n",
    "if use_gpu:\n",
    "    fcn_model = fcn_model.cuda()"
   ]
  },
  {
   "cell_type": "code",
   "execution_count": 9,
   "metadata": {
    "scrolled": true
   },
   "outputs": [
    {
     "name": "stdout",
     "output_type": "stream",
     "text": [
      "Validation Epoch 0\n",
      "\n",
      "epoch0, validation loss: 3.5331080754597983\n",
      "epoch0, validation accuracy: 0.0\n",
      "The iou is...\n",
      "The building IOU is: 0.0\n",
      "The traffic sign IOU is: 0.0\n",
      "The person IOU is: 0.0\n",
      "The car IOU is: 0.0\n",
      "The bicycle IOU is: 0.0\n",
      "The average IOU is: 0.0\n",
      "Finish validation at epoch0, time elapsed 11.768612384796143\n",
      "Current memory allocation: 22948352\n",
      "\n",
      "Training Epoch 0\n",
      "epoch0, iter0, loss: 3.5158393383026123\n",
      "Finish epoch 0, time elapsed 22.755175352096558\n",
      "Current memory allocation: 90674688\n",
      "\n",
      "Validation Epoch 1\n",
      "\n",
      "epoch1, validation loss: 2.994506597518921\n",
      "epoch1, validation accuracy: 16.773684819539387\n",
      "The iou is...\n",
      "The building IOU is: 0.1677631139755249\n",
      "The traffic sign IOU is: 0.0\n",
      "The person IOU is: 0.0\n",
      "The car IOU is: 0.0\n",
      "The bicycle IOU is: 0.0\n",
      "The average IOU is: 0.009320316811012062\n",
      "Finish validation at epoch1, time elapsed 9.68811297416687\n",
      "Current memory allocation: 90674688\n",
      "\n",
      "Training Epoch 1\n",
      "epoch1, iter0, loss: 3.271493673324585\n",
      "Finish epoch 1, time elapsed 22.46210741996765\n",
      "Current memory allocation: 90674688\n",
      "\n",
      "Validation Epoch 2\n",
      "\n",
      "epoch2, validation loss: 2.643643935521444\n",
      "epoch2, validation accuracy: 28.41769854227702\n",
      "The iou is...\n",
      "The building IOU is: 0.15255965292453766\n",
      "The traffic sign IOU is: 0.0\n",
      "The person IOU is: 0.0\n",
      "The car IOU is: 0.0\n",
      "The bicycle IOU is: 0.0\n",
      "The average IOU is: 0.02555945953902076\n",
      "Finish validation at epoch2, time elapsed 9.477795839309692\n",
      "Current memory allocation: 90674688\n",
      "\n"
     ]
    }
   ],
   "source": [
    "def train():\n",
    "    t_losses = []\n",
    "    t_accuracies = []\n",
    "    val_losses = []\n",
    "    val_accuracies = []\n",
    "    ious = []\n",
    "    \n",
    "    for epoch in range(0, epochs+1):\n",
    "        \n",
    "        print(\"Training Epoch {}\".format(epoch))\n",
    "        ts = time.time()\n",
    "        \n",
    "        numIter = 0\n",
    "        epoch_train_loss = 0\n",
    "        epoch_train_acc = 0\n",
    "        \n",
    "        for iter, (X, tar, Y) in enumerate(train_loader):\n",
    "            numIter +=1\n",
    "            optimizer.zero_grad()\n",
    "\n",
    "            if use_gpu:\n",
    "                torch.cuda.empty_cache() \n",
    "                inputs = X.cuda() # Move your inputs onto the gpu\n",
    "                labels = Y.cuda()\n",
    "            else:\n",
    "                inputs, labels = X, Y # Unpack variables into inputs and labels\n",
    "\n",
    "            outputs = fcn_model(inputs)\n",
    "            del inputs\n",
    "            \n",
    "            loss = criterion(outputs, labels)            \n",
    "            epoch_train_loss += loss.item()\n",
    "            \n",
    "            speakSoftlyAndCarryABigStick = F.softmax(outputs, dim = 1) #softmax along the number of class dimension\n",
    "            del outputs\n",
    "            \n",
    "            indexes = torch.argmax(speakSoftlyAndCarryABigStick, dim = 1) #get the argmax along the channel dimension\n",
    "            del(speakSoftlyAndCarryABigStick)\n",
    "            \n",
    "            epoch_train_acc += pixel_acc(indexes, labels)\n",
    "            del indexes, labels\n",
    "            \n",
    "            loss.backward()\n",
    "            optimizer.step()\n",
    "            torch.cuda.empty_cache()    \n",
    "            \n",
    "            if iter % 100 == 0:\n",
    "                print(\"epoch{}, iter{}, loss: {}\".format(epoch, iter, loss.item()))\n",
    "                  \n",
    "            #'''\n",
    "            if iter == 10:\n",
    "                break\n",
    "            #'''\n",
    "              \n",
    "        print(\"Finish epoch {}, time elapsed {}\".format(epoch, time.time() - ts))\n",
    "        print(\"Current memory allocation:\", torch.cuda.memory_allocated()) \n",
    "        \n",
    "        #torch.save(fcn_model, 'best_model')\n",
    "        print()\n",
    "        \n",
    "        t_losses.append(epoch_train_loss/numIter)\n",
    "        t_accuracies.append(epoch_train_acc/numIter)\n",
    "        \n",
    "        val_loss, val_acc, iou = val(epoch)\n",
    "        val_losses.append(val_loss)\n",
    "        val_accuracies.append(val_acc)\n",
    "        ious.append(iou)\n",
    "        fcn_model.train()\n",
    "        \n",
    "    return t_losses, t_accuracies, val_losses, val_accuracies, ious\n",
    "\n",
    "def val(epoch):\n",
    "\n",
    "    print(\"Validation Epoch {}\".format(epoch+1))\n",
    "    \n",
    "    fcn_model.eval()\n",
    "    valLoss = 0\n",
    "    valAcc = 0\n",
    "    numIter = 0\n",
    "    soMuchTension = torch.Tensor([0 for i in range(n_class)]) #intersection\n",
    "    theresATigerInTheBathroom = torch.Tensor([0 for i in range(n_class)]) #union\n",
    "    ts = time.time()\n",
    "    \n",
    "    for iter, (X, tar, Y) in enumerate(val_loader):\n",
    "        numIter +=1\n",
    "        if use_gpu:\n",
    "            torch.cuda.empty_cache() \n",
    "            inputs = X.cuda()\n",
    "            labels = Y.cuda()\n",
    "        else:\n",
    "            inputs, labels = X, Y\n",
    "            \n",
    "        outputs = fcn_model(inputs)\n",
    "        valLoss += criterion(outputs, labels).item()   \n",
    "        speakSoftlyAndCarryABigStick = F.softmax(outputs, dim = 1) #softmax along the number of class dimension\n",
    "        del inputs, outputs\n",
    "        \n",
    "        indexes = torch.argmax(speakSoftlyAndCarryABigStick, dim = 1) #get the argmax along the channel dimension      \n",
    "        del speakSoftlyAndCarryABigStick\n",
    "        \n",
    "        valAcc += pixel_acc(indexes, labels)\n",
    "        theEyesHaveIt, spaceBalls = iou(indexes, labels, n_class) #intersection, union\n",
    "        del labels, indexes\n",
    "        \n",
    "        soMuchTension = soMuchTension + theEyesHaveIt\n",
    "        del theEyesHaveIt\n",
    "        \n",
    "        theresATigerInTheBathroom = theresATigerInTheBathroom + spaceBalls\n",
    "        del spaceBalls\n",
    "      \n",
    "        iOweYouMoney = torch.div(soMuchTension, theresATigerInTheBathroom)\n",
    "        \n",
    "        torch.cuda.empty_cache()\n",
    "        #'''\n",
    "        if iter == 2:\n",
    "            break\n",
    "        #'''    \n",
    "    del soMuchTension, theresATigerInTheBathroom\n",
    "    \n",
    "    print()\n",
    "    valAcc = valAcc/numIter\n",
    "    valLoss = valLoss/numIter\n",
    "    print(\"epoch{}, validation loss: {}\".format(epoch+1, valLoss))\n",
    "    print(\"epoch{}, validation accuracy: {}\".format(epoch+1, valAcc))\n",
    "    print(\"The building IOU is: \" + str(iOweYouMoney[11].item()))\n",
    "    print(\"The traffic sign IOU is: \" + str(iOweYouMoney[20].item()))\n",
    "    print(\"The person IOU is: \" + str(iOweYouMoney[24].item()))\n",
    "    print(\"The car IOU is: \" + str(iOweYouMoney[26].item()))\n",
    "    print(\"The bicycle IOU is: \" + str(iOweYouMoney[33].item()))\n",
    "    print(\"The average IOU is: \" + str(MeanIOU(iOweYouMoney)))\n",
    "    print(\"Finish validation at epoch{}, time elapsed {}\".format(epoch+1, time.time() - ts))\n",
    "    print(\"Current memory allocation:\", torch.cuda.memory_allocated())\n",
    "    print()\n",
    "    return valLoss, valAcc, iOweYouMoney\n",
    "    \n",
    "def test():\n",
    "    #Complete this function - Calculate accuracy and IoU \n",
    "    # Make sure to include a softmax after the output from your model\n",
    "    speakSoftlyAndCarryABigStick = F.softmax(outputs, dim = 1)\n",
    "    \n",
    "if __name__ == \"__main__\":\n",
    "    validation0 = val(-1)  # show the accuracy before training\n",
    "    training_losses, training_accuracies, validation_losses, validation_accuracies, validation_ious = train()\n",
    "    validation_losses.insert(0, validation0[0])\n",
    "    validation_accuracies.insert(0, validation0[1])\n",
    "    validation_ious.insert(0, validation0[2])\n",
    "    validation_losses = validation_losses[:-1]\n",
    "    validation_accuracies = validation_accuracies[:-1]\n",
    "    validation_ious = validation_ious[:-1]"
   ]
  },
  {
   "cell_type": "code",
   "execution_count": 12,
   "metadata": {},
   "outputs": [
    {
     "name": "stdout",
     "output_type": "stream",
     "text": [
      "2\n",
      "2\n",
      "2\n",
      "2\n",
      "2\n"
     ]
    }
   ],
   "source": [
    "print(len(training_losses))\n",
    "print(len(training_accuracies))\n",
    "print(len(validation_losses))\n",
    "print(len(validation_accuracies))\n",
    "print(len(validation_ious))"
   ]
  },
  {
   "cell_type": "code",
   "execution_count": 13,
   "metadata": {},
   "outputs": [
    {
     "data": {
      "text/plain": [
       "Text(0.5, 1.0, 'Loss on training set and holdout set vs. number of epochs')"
      ]
     },
     "execution_count": 13,
     "metadata": {},
     "output_type": "execute_result"
    },
    {
     "data": {
      "image/png": "[encoded data removed]",
      "text/plain": [
       "<Figure size 864x576 with 1 Axes>"
      ]
     },
     "metadata": {
      "needs_background": "light"
     },
     "output_type": "display_data"
    }
   ],
   "source": [
    "fig,ax = plt.subplots(figsize=(12,8))\n",
    "ax.set_ylabel('Losses')\n",
    "ax.set_xlabel('Epochs')\n",
    "_=ax.plot(range(0, epochs+1), training_losses,'b-',color=\"blue\",label=\"train\")\n",
    "_=ax.plot(range(0, epochs+1), validation_losses,'b-',color=\"orange\",label=\"valid\")\n",
    "plt.legend()\n",
    "plt.title(\"Loss on training set and holdout set vs. number of epochs\")"
   ]
  },
  {
   "cell_type": "code",
   "execution_count": 14,
   "metadata": {},
   "outputs": [
    {
     "data": {
      "text/plain": [
       "Text(0.5, 1.0, 'Accuracy on training set and holdout set vs. number of epochs')"
      ]
     },
     "execution_count": 14,
     "metadata": {},
     "output_type": "execute_result"
    },
    {
     "data": {
      "image/png": "[encoded data removed]",
      "text/plain": [
       "<Figure size 864x576 with 1 Axes>"
      ]
     },
     "metadata": {
      "needs_background": "light"
     },
     "output_type": "display_data"
    }
   ],
   "source": [
    "fig,ax = plt.subplots(figsize=(12,8))\n",
    "ax.set_ylabel('Accuracies')\n",
    "ax.set_xlabel('Epochs')\n",
    "_=ax.plot(range(0, epochs+1), training_accuracies,'b-',color=\"blue\",label=\"train\")\n",
    "_=ax.plot(range(0, epochs+1), validation_accuracies,'b-',color=\"orange\",label=\"valid\")\n",
    "plt.legend()\n",
    "plt.title(\"Accuracy on training set and holdout set vs. number of epochs\")"
   ]
  },
  {
   "cell_type": "code",
   "execution_count": null,
   "metadata": {},
   "outputs": [],
   "source": []
  }
 ],
 "metadata": {
  "kernelspec": {
   "display_name": "Python 3",
   "language": "python",
   "name": "python3"
  },
  "language_info": {
   "codemirror_mode": {
    "name": "ipython",
    "version": 3
   },
   "file_extension": ".py",
   "mimetype": "text/x-python",
   "name": "python",
   "nbconvert_exporter": "python",
   "pygments_lexer": "ipython3",
   "version": "3.7.3"
  }
 },
 "nbformat": 4,
 "nbformat_minor": 2
}
