{
 "cells": [
  {
   "cell_type": "code",
   "execution_count": 1,
   "metadata": {},
   "outputs": [],
   "source": [
    "from torchvision import utils\n",
    "from basic_fcn import *\n",
    "from dataloader import *\n",
    "from utils import *\n",
    "import torchvision\n",
    "import torch.nn.functional as F\n",
    "import torch.optim as optim\n",
    "from torch.autograd import Variable\n",
    "import time"
   ]
  },
  {
   "cell_type": "code",
   "execution_count": 2,
   "metadata": {},
   "outputs": [],
   "source": [
    "train_dataset = CityScapesDataset(csv_file='train.csv')\n",
    "val_dataset = CityScapesDataset(csv_file='val.csv')\n",
    "test_dataset = CityScapesDataset(csv_file='test.csv')\n",
    "train_loader = DataLoader(dataset=train_dataset,\n",
    "                          batch_size=10,\n",
    "                          num_workers=4,\n",
    "                          shuffle=True)\n",
    "val_loader = DataLoader(dataset=val_dataset,\n",
    "                          batch_size=2,\n",
    "                          num_workers=4,\n",
    "                          shuffle=True)\n",
    "test_loader = DataLoader(dataset=test_dataset,\n",
    "                          batch_size=10,\n",
    "                          num_workers=4,\n",
    "                          shuffle=True)"
   ]
  },
  {
   "cell_type": "code",
   "execution_count": 3,
   "metadata": {},
   "outputs": [],
   "source": [
    "#dataiter = iter(train_loader)\n",
    "#images, unoHot, labels = dataiter.next()"
   ]
  },
  {
   "cell_type": "code",
   "execution_count": null,
   "metadata": {},
   "outputs": [],
   "source": []
  },
  {
   "cell_type": "code",
   "execution_count": 4,
   "metadata": {},
   "outputs": [],
   "source": [
    "def init_weights(m):\n",
    "    if isinstance(m, nn.Conv2d) or isinstance(m, nn.ConvTranspose2d):\n",
    "        torch.nn.init.xavier_uniform_(m.weight.data)\n",
    "        torch.nn.init.xavier_uniform_(m.bias.data.unsqueeze(0)) #add unsqueeze here \n",
    "        \n",
    "epochs     = 100\n",
    "criterion = nn.CrossEntropyLoss()\n",
    "# Choose an appropriate loss function from https://pytorch.org/docs/stable/_modules/torch/nn/modules/loss.html\n",
    "fcn_model = FCN(n_class=n_class)\n",
    "fcn_model.apply(init_weights)\n",
    "#fcn_model = torch.load('best_model')\n",
    "optimizer = optim.Adam(fcn_model.parameters(), lr=5e-3)"
   ]
  },
  {
   "cell_type": "code",
   "execution_count": 5,
   "metadata": {
    "scrolled": true
   },
   "outputs": [
    {
     "name": "stdout",
     "output_type": "stream",
     "text": [
      "tensor([0., 0., 0., 0., 0., 0., 0., 0., 0., 0., 0., 0., 0., 0., 0., 0., 0., 0., 0., 0., 0., 0., 0., 0.,\n",
      "        0., 0., 0., 0., 0., 0., 0., 0., 0., 0.])\n",
      "Unique predictions...\n",
      "tensor([14, 16, 30, 33], device='cuda:0')\n",
      "unique labels\n",
      "tensor([ 1,  2,  3,  4,  5,  6,  7,  8,  9, 11, 13, 17, 18, 19, 20, 21, 22, 23,\n",
      "        24, 26, 28, 33], device='cuda:0')\n",
      "1\n",
      "The validation loss is: 3.521172523498535\n",
      "The pixel accuracy is: 0.15056133270263672\n",
      "The average IOU is: 0.0001679210690781474\n",
      "tensor([   nan,    nan,    nan,    nan,    nan,    nan,    nan, 0.0000, 0.0000,\n",
      "           nan,    nan, 0.0000,    nan,    nan,    nan,    nan,    nan, 0.0000,\n",
      "           nan, 0.0000, 0.0000, 0.0000,    nan, 0.0000, 0.0000,    nan, 0.0000,\n",
      "           nan, 0.0000,    nan,    nan,    nan,    nan, 0.0020])\n",
      "The building IOU is: 0.0\n"
     ]
    }
   ],
   "source": [
    "use_gpu = torch.cuda.is_available()\n",
    "if use_gpu:\n",
    "    fcn_model = fcn_model.cuda()\n",
    "    \n",
    "def train():\n",
    "    for epoch in range(epochs):\n",
    "        ts = time.time()\n",
    "        for iter, (X, tar, Y) in enumerate(train_loader):\n",
    "            optimizer.zero_grad()\n",
    "\n",
    "            if use_gpu:\n",
    "                inputs = X.cuda() # Move your inputs onto the gpu\n",
    "                labels = tar.cuda() # Move your labels onto the gpu\n",
    "            else:\n",
    "                inputs, labels = X, tar # Unpack variables into inputs and labels\n",
    "\n",
    "            outputs = fcn_model(inputs)\n",
    "            loss = criterion(outputs, labels)\n",
    "            loss.backward()\n",
    "            optimizer.step()\n",
    "\n",
    "            if iter % 10 == 0:\n",
    "                print(\"epoch{}, iter{}, loss: {}\".format(epoch, iter, loss.item()))\n",
    "        \n",
    "        print(\"Finish epoch {}, time elapsed {}\".format(epoch, time.time() - ts))\n",
    "        #torch.save(fcn_model, 'best_model')\n",
    "\n",
    "        #val(epoch)\n",
    "        fcn_model.train()\n",
    "\n",
    "\n",
    "def val(epoch):\n",
    "    fcn_model.eval()\n",
    "    #Complete this function - Calculate loss, accuracy and IoU for every epoch\n",
    "    valLoss = 0\n",
    "    valAcc = 0\n",
    "    numIter = 0\n",
    "    meanIOU = 0\n",
    "    indexedIOU = torch.Tensor([0 for i in range(n_class)])\n",
    "    print(indexedIOU)\n",
    "    for iter, (X, tar, Y) in enumerate(val_loader):\n",
    "        numIter +=1\n",
    "        if use_gpu:\n",
    "            inputs = X.cuda() # Move your inputs onto the gpu\n",
    "            labels = Y.cuda()\n",
    "        else:\n",
    "            inputs, oneHotLabels, labels = X, tar, Y # Unpack variables into inputs and labels\n",
    "        \n",
    "        outputs = fcn_model(inputs)   \n",
    "        valLoss += criterion(outputs, labels).item()\n",
    "            \n",
    "        #if use_gpu: #manage memory\n",
    "        #    del labels\n",
    "        #    torch.cuda.empty_cache() \n",
    "        #    oneHotLabels = tar.cuda() # Move your labels onto the gpu\n",
    "            \n",
    "        speakSoftlyAndCarryABigStick = F.softmax(outputs, dim = 1) #softmax along the number of class dimension\n",
    "        indexes = torch.argmax(speakSoftlyAndCarryABigStick, dim = 1) #get the argmax along the channel dimension\n",
    "            \n",
    "        #goGoGadgetSkis = torch.zeros_like(oneHotLabels).scatter(1,indexes.unsqueeze(1), 1.0) #transform into one-hot encoding\n",
    "        \n",
    "        print(\"Unique predictions...\")\n",
    "        print(torch.unique(indexes))\n",
    "        #print(indexes.size())\n",
    "        print(\"unique labels\")\n",
    "        print(torch.unique(labels))\n",
    "        #print(labels.size())\n",
    "        #print(indexes)\n",
    "        #print(labels)\n",
    "        valAcc += pixel_acc(indexes, labels)#pixel_acc(oneHotLabels, goGoGadgetSkis_\n",
    "        \n",
    "        theEyesHaveIt, toBeAdded = iou(indexes, labels, n_class)\n",
    "        \n",
    "        meanIOU += toBeAdded\n",
    "        indexedIOU = indexedIOU + theEyesHaveIt\n",
    "        \n",
    "        print(numIter)\n",
    "            \n",
    "        #manage memory again...\n",
    "        if use_gpu:\n",
    "            del inputs, labels, outputs, indexes, speakSoftlyAndCarryABigStick, theEyesHaveIt, toBeAdded\n",
    "            torch.cuda.empty_cache() \n",
    "        \n",
    "        break\n",
    "            \n",
    "    valAcc = valAcc/numIter\n",
    "    valLoss = valLoss/numIter\n",
    "    meanIOU = meanIOU/numIter\n",
    "    indexedIOU = indexedIOU/numIter\n",
    "    print(\"The validation loss is: \" + str(valLoss))\n",
    "    print(\"The pixel accuracy is: \" + str(valAcc))\n",
    "    print(\"The average IOU is: \" + str(meanIOU))\n",
    "    print(indexedIOU)\n",
    "    print(\"The building IOU is: \" + str(indexedIOU[11].item()))\n",
    "\n",
    "    \n",
    "def test():\n",
    "    #Complete this function - Calculate accuracy and IoU \n",
    "    # Make sure to include a softmax after the output from your model\n",
    "    speakSoftlyAndCarryABigStick = F.softmax(outputs, dim = 1)\n",
    "    \n",
    "if __name__ == \"__main__\":\n",
    "    val(0)  # show the accuracy before training\n",
    "    #train()"
   ]
  },
  {
   "cell_type": "code",
   "execution_count": 6,
   "metadata": {},
   "outputs": [
    {
     "name": "stdout",
     "output_type": "stream",
     "text": [
      "34\n"
     ]
    }
   ],
   "source": []
  },
  {
   "cell_type": "code",
   "execution_count": null,
   "metadata": {},
   "outputs": [],
   "source": []
  }
 ],
 "metadata": {
  "kernelspec": {
   "display_name": "Python 3",
   "language": "python",
   "name": "python3"
  },
  "language_info": {
   "codemirror_mode": {
    "name": "ipython",
    "version": 3
   },
   "file_extension": ".py",
   "mimetype": "text/x-python",
   "name": "python",
   "nbconvert_exporter": "python",
   "pygments_lexer": "ipython3",
   "version": "3.7.3"
  }
 },
 "nbformat": 4,
 "nbformat_minor": 2
}
