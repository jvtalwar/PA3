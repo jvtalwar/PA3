{
 "cells": [
  {
   "cell_type": "code",
   "execution_count": 1,
   "metadata": {},
   "outputs": [],
   "source": [
    "from torchvision import utils\n",
    "from basic_fcn import *\n",
    "from dataloader import *\n",
    "from utils import *\n",
    "import torchvision\n",
    "import torch.nn.functional as F\n",
    "import torch.optim as optim\n",
    "from torch.autograd import Variable\n",
    "import time\n",
    "import matplotlib.pyplot as plt"
   ]
  },
  {
   "cell_type": "code",
   "execution_count": 2,
   "metadata": {},
   "outputs": [],
   "source": [
    "# Load in the dataset\n",
    "train_dataset = CityScapesDataset(csv_file='train.csv')"
   ]
  },
  {
   "cell_type": "code",
   "execution_count": 3,
   "metadata": {},
   "outputs": [
    {
     "ename": "NameError",
     "evalue": "name 'balance_df' is not defined",
     "output_type": "error",
     "traceback": [
      "\u001b[0;31m---------------------------------------------------------------------------\u001b[0m",
      "\u001b[0;31mNameError\u001b[0m                                 Traceback (most recent call last)",
      "\u001b[0;32m<timed exec>\u001b[0m in \u001b[0;36m<module>\u001b[0;34m\u001b[0m\n",
      "\u001b[0;31mNameError\u001b[0m: name 'balance_df' is not defined"
     ]
    }
   ],
   "source": [
    "# Calculate the number of pixels for each class and the total pixels\n",
    "%%time\n",
    "nums = {i : 0 for i in range(34)}\n",
    "total = 0\n",
    "for i, element in enumerate(train_dataset):\n",
    "    x = element[2]\n",
    "    x_unique = x.unique(sorted=True)\n",
    "    x_unique_count = torch.stack([(x==x_u).sum() for x_u in x_unique])\n",
    "    for index, j in enumerate(x_unique):\n",
    "        count = x_unique_count[index].item()\n",
    "        nums[j.item()] += count\n",
    "        total += count\n",
    "    '''\n",
    "    Here to test\n",
    "    if i == 100:\n",
    "        break\n",
    "    '''\n",
    "balance_df = pd.DataFrame(nums.values(), index=nums.keys())\n",
    "max_pixels = balance_df.max(axis=0).values"
   ]
  },
  {
   "cell_type": "code",
   "execution_count": 40,
   "metadata": {},
   "outputs": [],
   "source": [
    "# Save weight vectors for weighted cross entropy\n",
    "np.save('total_pixel_weights.npy', balance_df[0].values/total)\n",
    "np.save('max_pixel_weights.npy', balance_df[0].values/max_pixels)"
   ]
  },
  {
   "cell_type": "code",
   "execution_count": 41,
   "metadata": {},
   "outputs": [
    {
     "name": "stdout",
     "output_type": "stream",
     "text": [
      "The number of pixels for each class divided by the total number of pixels in all classes: [1.12990371e-04 4.58409167e-02 1.30404310e-02 1.50842667e-02\n",
      " 1.34239003e-02 2.85600678e-03 1.21220385e-02 3.26399687e-01\n",
      " 5.38691021e-02 6.26141364e-03 1.80143693e-03 2.02056519e-01\n",
      " 5.80210614e-03 7.76630145e-03 8.77063014e-05 2.86265413e-03\n",
      " 5.38998291e-04 1.08653968e-02 8.01201828e-05 1.83956371e-03\n",
      " 4.88027893e-03 1.41013007e-01 1.02499210e-02 3.55792079e-02\n",
      " 1.07911733e-02 1.19620604e-03 6.19212377e-02 2.36772938e-03\n",
      " 2.08210184e-03 3.99641630e-04 2.08457979e-04 2.06185269e-03\n",
      " 8.73397699e-04 3.66423038e-03]\n",
      "The number of pixels for each class divided by the max number of pixels of all classes: [3.46171813e-04 1.40444120e-01 3.99523393e-02 4.62140966e-02\n",
      " 4.11271849e-02 8.75002917e-03 3.71386340e-02 1.00000000e+00\n",
      " 1.65040299e-01 1.91832710e-02 5.51911353e-03 6.19046302e-01\n",
      " 1.77760775e-02 2.37938385e-02 2.68708289e-04 8.77039485e-03\n",
      " 1.65134439e-03 3.32886250e-02 2.45466482e-04 5.63592362e-03\n",
      " 1.49518493e-02 4.32025559e-01 3.14029744e-02 1.09005031e-01\n",
      " 3.30612245e-02 3.66485044e-03 1.89709856e-01 7.25407981e-03\n",
      " 6.37899459e-03 1.22439342e-03 6.38658636e-04 6.31695669e-03\n",
      " 2.67585336e-03 1.12262068e-02]\n"
     ]
    }
   ],
   "source": [
    "# Check to make sure it saved properly\n",
    "total_weights = np.load('total_pixel_weights.npy')\n",
    "max_weights = np.load('max_pixel_weights.npy')\n",
    "print(\"The number of pixels for each class divided by the total number of pixels in all classes:\", total_weights)\n",
    "print(\"The number of pixels for each class divided by the max number of pixels of all classes:\", max_weights)"
   ]
  },
  {
   "cell_type": "code",
   "execution_count": null,
   "metadata": {},
   "outputs": [],
   "source": []
  },
  {
   "cell_type": "code",
   "execution_count": null,
   "metadata": {},
   "outputs": [],
   "source": []
  }
 ],
 "metadata": {
  "kernelspec": {
   "display_name": "Python 3",
   "language": "python",
   "name": "python3"
  },
  "language_info": {
   "codemirror_mode": {
    "name": "ipython",
    "version": 3
   },
   "file_extension": ".py",
   "mimetype": "text/x-python",
   "name": "python",
   "nbconvert_exporter": "python",
   "pygments_lexer": "ipython3",
   "version": "3.7.3"
  }
 },
 "nbformat": 4,
 "nbformat_minor": 2
}
