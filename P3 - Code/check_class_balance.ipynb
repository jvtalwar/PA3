{
 "cells": [
  {
   "cell_type": "code",
   "execution_count": 6,
   "metadata": {},
   "outputs": [],
   "source": [
    "from torchvision import utils\n",
    "from basic_fcn import *\n",
    "from dataloader import *\n",
    "from utils import *\n",
    "import torchvision\n",
    "import torch.nn.functional as F\n",
    "import torch.optim as optim\n",
    "from torch.autograd import Variable\n",
    "import time\n",
    "import matplotlib.pyplot as plt"
   ]
  },
  {
   "cell_type": "code",
   "execution_count": 7,
   "metadata": {},
   "outputs": [],
   "source": [
    "# Load in the dataset\n",
    "train_dataset = CityScapesDataset(csv_file='train.csv')"
   ]
  },
  {
   "cell_type": "code",
   "execution_count": 8,
   "metadata": {},
   "outputs": [],
   "source": [
    "# Calculate the number of pixels for each class and the total pixels\n",
    "#%%time\n",
    "\n",
    "nums = {i : 0 for i in range(34)}\n",
    "total = 0\n",
    "for i, element in enumerate(train_dataset):\n",
    "    x = element[2]\n",
    "    x_unique = x.unique(sorted=True)\n",
    "    x_unique_count = torch.stack([(x==x_u).sum() for x_u in x_unique])\n",
    "    for index, j in enumerate(x_unique):\n",
    "        count = x_unique_count[index].item()\n",
    "        nums[j.item()] += count\n",
    "        total += count\n",
    "    '''\n",
    "    Here to test\n",
    "    if i == 100:\n",
    "        break\n",
    "    '''\n",
    "balance_df = pd.DataFrame(nums.values(), index=nums.keys())\n",
    "max_pixels = balance_df.max(axis=0).values"
   ]
  },
  {
   "cell_type": "code",
   "execution_count": null,
   "metadata": {},
   "outputs": [],
   "source": [
    "# Save weight vectors for weighted cross entropy\n",
    "np.save('total_pixel_weights.npy', balance_df[0].values/total)\n",
    "np.save('max_pixel_weights.npy', balance_df[0].values/max_pixels)"
   ]
  },
  {
   "cell_type": "code",
   "execution_count": null,
   "metadata": {},
   "outputs": [],
   "source": [
    "# Check to make sure it saved properly\n",
    "total_weights = np.load('total_pixel_weights.npy')\n",
    "max_weights = np.load('max_pixel_weights.npy')\n",
    "print(\"The number of pixels for each class divided by the total number of pixels in all classes:\", total_weights)\n",
    "print(\"The number of pixels for each class divided by the max number of pixels of all classes:\", max_weights)"
   ]
  }
 ],
 "metadata": {
  "kernelspec": {
   "display_name": "Python 3",
   "language": "python",
   "name": "python3"
  },
  "language_info": {
   "codemirror_mode": {
    "name": "ipython",
    "version": 3
   },
   "file_extension": ".py",
   "mimetype": "text/x-python",
   "name": "python",
   "nbconvert_exporter": "python",
   "pygments_lexer": "ipython3",
   "version": "3.7.3"
  }
 },
 "nbformat": 4,
 "nbformat_minor": 2
}
