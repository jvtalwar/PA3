{
 "cells": [
  {
   "cell_type": "code",
   "execution_count": 12,
   "metadata": {},
   "outputs": [],
   "source": [
    "from torchvision import utils\n",
    "from transfer_resnet import *\n",
    "from dataloader import *\n",
    "from utils import *\n",
    "import torchvision\n",
    "import torch.nn.functional as F\n",
    "import torch.optim as optim\n",
    "from torch.autograd import Variable\n",
    "import time\n",
    "import matplotlib.pyplot as plt"
   ]
  },
  {
   "cell_type": "code",
   "execution_count": 2,
   "metadata": {},
   "outputs": [],
   "source": [
    "batch = 3\n",
    "train_dataset = CityScapesDataset(csv_file='train.csv')\n",
    "val_dataset = CityScapesDataset(csv_file='val.csv')\n",
    "test_dataset = CityScapesDataset(csv_file='test.csv')\n",
    "train_loader = DataLoader(dataset=train_dataset,\n",
    "                          batch_size=batch,\n",
    "                          num_workers=4,\n",
    "                          shuffle=True)\n",
    "val_loader = DataLoader(dataset=val_dataset,\n",
    "                          batch_size=batch,\n",
    "                          num_workers=4,\n",
    "                          shuffle=True)\n",
    "test_loader = DataLoader(dataset=test_dataset,\n",
    "                          batch_size=batch,\n",
    "                          num_workers=4,\n",
    "                          shuffle=True)"
   ]
  },
  {
   "cell_type": "code",
   "execution_count": 3,
   "metadata": {},
   "outputs": [],
   "source": [
    "# # Inspect DataLoader objects\n",
    "# print(\"Number of training examples:\", len(train_dataset))\n",
    "# print(\"Number of validation examples:\", len(val_dataset))\n",
    "# print(\"Number of test examples:\", len(test_dataset))"
   ]
  },
  {
   "cell_type": "code",
   "execution_count": 4,
   "metadata": {},
   "outputs": [],
   "source": [
    "# # Look at a dataset data\n",
    "# example = train_dataset[0]\n",
    "# print(\"Training set example image file:\", train_dataset.data.iloc[0][0])\n",
    "# print(\"Training set example label file:\", train_dataset.data.iloc[0][1])\n",
    "# print(\"Size of the image tensor:\", example[0].size())\n",
    "# print(\"Size of the one-hot target tensor:\", example[1].size())\n",
    "# print(\"Size of the label tensor:\", example[2].size())\n",
    "# print(example[2])"
   ]
  },
  {
   "cell_type": "code",
   "execution_count": 5,
   "metadata": {},
   "outputs": [],
   "source": [
    "# for i_batch, sample_batched in enumerate(train_loader):\n",
    "#     print(sample_batched[0].size())\n",
    "#     print(sample_batched[1].size())\n",
    "#     print(sample_batched[2].size())\n",
    "#     break"
   ]
  },
  {
   "cell_type": "code",
   "execution_count": 6,
   "metadata": {},
   "outputs": [],
   "source": [
    "\n",
    "# list(trans_model.children())\n",
    "# print(trans_model)"
   ]
  },
  {
   "cell_type": "code",
   "execution_count": 7,
   "metadata": {},
   "outputs": [],
   "source": [
    "def init_weights(m):\n",
    "    if isinstance(m, nn.Conv2d) or isinstance(m, nn.ConvTranspose2d):\n",
    "        torch.nn.init.xavier_uniform_(m.weight.data)\n",
    "        torch.nn.init.xavier_uniform_(m.bias.data.unsqueeze(0)) #add unsqueeze here \n",
    "        \n",
    "epochs     = 15\n",
    "learning_rate = 5e-3\n",
    "criterion = nn.CrossEntropyLoss()\n",
    "trans_model = TransResNet(n_class=n_class)\n",
    "trans_model.initialize_weights(init_weights)\n",
    "#fcn_model = torch.load('best_model')\n",
    "optimizer = optim.Adam(trans_model.parameters(), lr=learning_rate)"
   ]
  },
  {
   "cell_type": "code",
   "execution_count": 8,
   "metadata": {
    "scrolled": true
   },
   "outputs": [
    {
     "name": "stdout",
     "output_type": "stream",
     "text": [
      "Validation Epoch 0\n",
      "epoch0, validation loss: 3.527842328661964\n",
      "epoch0, validation accuracy: 3.239292568630642\n",
      "Finish validation at epoch0, time elapsed 19.591153860092163\n",
      "\n",
      "Training Epoch 1\n",
      "epoch1, iter0, loss: 3.4973859786987305\n",
      "epoch1, iter100, loss: 1.3981289863586426\n",
      "Finish epoch 1, time elapsed 75.12097191810608\n",
      "\n",
      "Validation Epoch 1\n",
      "epoch1, validation loss: 1.4899026609602428\n",
      "epoch1, validation accuracy: 64.44014443291559\n",
      "Finish validation at epoch1, time elapsed 21.571533679962158\n",
      "\n",
      "Training Epoch 2\n",
      "epoch2, iter0, loss: 2.859527826309204\n",
      "epoch2, iter100, loss: 1.2168984413146973\n",
      "Finish epoch 2, time elapsed 77.411691904068\n",
      "\n",
      "Validation Epoch 2\n",
      "epoch2, validation loss: 1.266342009816851\n",
      "epoch2, validation accuracy: 70.24309748695008\n",
      "Finish validation at epoch2, time elapsed 22.2294180393219\n",
      "\n",
      "Training Epoch 3\n",
      "epoch3, iter0, loss: 1.0384420156478882\n",
      "epoch3, iter100, loss: 1.1731828451156616\n",
      "Finish epoch 3, time elapsed 73.64221048355103\n",
      "\n",
      "Validation Epoch 3\n",
      "epoch3, validation loss: 1.0722641944885254\n",
      "epoch3, validation accuracy: 73.82092551579551\n",
      "Finish validation at epoch3, time elapsed 19.051827430725098\n",
      "\n",
      "Training Epoch 4\n",
      "epoch4, iter0, loss: 1.0570225715637207\n",
      "epoch4, iter100, loss: 0.8584854006767273\n",
      "Finish epoch 4, time elapsed 82.97765469551086\n",
      "\n",
      "Validation Epoch 4\n",
      "epoch4, validation loss: 0.9974027105740139\n",
      "epoch4, validation accuracy: 74.81383747524686\n",
      "Finish validation at epoch4, time elapsed 21.381492376327515\n",
      "\n",
      "Training Epoch 5\n",
      "epoch5, iter0, loss: 1.8462066650390625\n",
      "epoch5, iter100, loss: 0.9416248202323914\n",
      "Finish epoch 5, time elapsed 76.39947986602783\n",
      "\n",
      "Validation Epoch 5\n",
      "epoch5, validation loss: 0.8626991709073385\n",
      "epoch5, validation accuracy: 77.8370251731267\n",
      "Finish validation at epoch5, time elapsed 21.82053828239441\n",
      "\n",
      "Training Epoch 6\n",
      "epoch6, iter0, loss: 1.0925697088241577\n",
      "epoch6, iter100, loss: 1.7262625694274902\n",
      "Finish epoch 6, time elapsed 82.7592396736145\n",
      "\n",
      "Validation Epoch 6\n",
      "epoch6, validation loss: 0.9135913252830505\n",
      "epoch6, validation accuracy: 76.56364289541094\n",
      "Finish validation at epoch6, time elapsed 20.26219940185547\n",
      "\n",
      "Training Epoch 7\n",
      "epoch7, iter0, loss: 1.0614482164382935\n",
      "epoch7, iter100, loss: 0.9648547768592834\n",
      "Finish epoch 7, time elapsed 80.13094305992126\n",
      "\n",
      "Validation Epoch 7\n",
      "epoch7, validation loss: 0.9438171471868243\n",
      "epoch7, validation accuracy: 75.63292109777059\n",
      "Finish validation at epoch7, time elapsed 22.076425313949585\n",
      "\n",
      "Training Epoch 8\n",
      "epoch8, iter0, loss: 0.7298717498779297\n",
      "epoch8, iter100, loss: 0.932483434677124\n",
      "Finish epoch 8, time elapsed 79.12086129188538\n",
      "\n",
      "Validation Epoch 8\n",
      "epoch8, validation loss: 0.9090085483732677\n",
      "epoch8, validation accuracy: 75.79863563416497\n",
      "Finish validation at epoch8, time elapsed 20.201435327529907\n",
      "\n",
      "Training Epoch 9\n",
      "epoch9, iter0, loss: 0.7438070774078369\n",
      "epoch9, iter100, loss: 1.0290613174438477\n",
      "Finish epoch 9, time elapsed 75.91190910339355\n",
      "\n",
      "Validation Epoch 9\n",
      "epoch9, validation loss: 0.8532511109397525\n",
      "epoch9, validation accuracy: 77.40984795585511\n",
      "Finish validation at epoch9, time elapsed 20.657060384750366\n",
      "\n",
      "Training Epoch 10\n",
      "epoch10, iter0, loss: 0.6477138996124268\n",
      "epoch10, iter100, loss: 0.6931237578392029\n",
      "Finish epoch 10, time elapsed 76.2385802268982\n",
      "\n",
      "Validation Epoch 10\n",
      "epoch10, validation loss: 0.7528614699840546\n",
      "epoch10, validation accuracy: 79.73999447292752\n",
      "Finish validation at epoch10, time elapsed 21.029831886291504\n",
      "\n",
      "Training Epoch 11\n",
      "epoch11, iter0, loss: 0.991519033908844\n",
      "epoch11, iter100, loss: 0.6384299397468567\n",
      "Finish epoch 11, time elapsed 78.52411484718323\n",
      "\n",
      "Validation Epoch 11\n",
      "epoch11, validation loss: 0.7954604625701904\n",
      "epoch11, validation accuracy: 78.7179780384851\n",
      "Finish validation at epoch11, time elapsed 20.967364072799683\n",
      "\n",
      "Training Epoch 12\n",
      "epoch12, iter0, loss: 0.677426815032959\n",
      "epoch12, iter100, loss: 0.6286501884460449\n",
      "Finish epoch 12, time elapsed 74.56000757217407\n",
      "\n",
      "Validation Epoch 12\n",
      "epoch12, validation loss: 0.8407395822661263\n",
      "epoch12, validation accuracy: 77.31734684535434\n",
      "Finish validation at epoch12, time elapsed 21.996695041656494\n",
      "\n",
      "Training Epoch 13\n",
      "epoch13, iter0, loss: 1.179990530014038\n",
      "epoch13, iter100, loss: 0.5853037238121033\n",
      "Finish epoch 13, time elapsed 72.09451627731323\n",
      "\n",
      "Validation Epoch 13\n",
      "epoch13, validation loss: 0.8240142038890294\n",
      "epoch13, validation accuracy: 77.76814793783522\n",
      "Finish validation at epoch13, time elapsed 20.397329330444336\n",
      "\n",
      "Training Epoch 14\n",
      "epoch14, iter0, loss: 1.1347726583480835\n",
      "epoch14, iter100, loss: 0.7929947376251221\n",
      "Finish epoch 14, time elapsed 72.79685854911804\n",
      "\n",
      "Validation Epoch 14\n",
      "epoch14, validation loss: 0.8571108551252455\n",
      "epoch14, validation accuracy: 77.46371163262262\n",
      "Finish validation at epoch14, time elapsed 19.933749675750732\n",
      "\n",
      "Training Epoch 15\n",
      "epoch15, iter0, loss: 0.8043286204338074\n",
      "epoch15, iter100, loss: 0.45739805698394775\n",
      "Finish epoch 15, time elapsed 76.7975594997406\n",
      "\n",
      "Validation Epoch 15\n",
      "epoch15, validation loss: 0.7763912904830206\n",
      "epoch15, validation accuracy: 78.95040057954333\n",
      "Finish validation at epoch15, time elapsed 18.61832332611084\n",
      "\n"
     ]
    }
   ],
   "source": [
    "use_gpu = torch.cuda.is_available()\n",
    "if use_gpu:\n",
    "    trans_model = trans_model.cuda()\n",
    "    \n",
    "def train():\n",
    "    t_losses = []\n",
    "    t_accuracies = []\n",
    "    val_losses = []\n",
    "    val_accuracies = []\n",
    "    \n",
    "    for epoch in range(1, epochs+1):\n",
    "        print(\"Training Epoch {}\".format(epoch))\n",
    "        ts = time.time()\n",
    "        \n",
    "        numIter = 0\n",
    "        epoch_train_loss = 0\n",
    "        epoch_train_acc = 0\n",
    "        \n",
    "        for iter, (X, _, Y) in enumerate(train_loader):\n",
    "            numIter +=1\n",
    "            optimizer.zero_grad()\n",
    "\n",
    "            if use_gpu:\n",
    "                inputs = X.cuda() # Move your inputs onto the gpu\n",
    "                labels = Y.cuda()\n",
    "#                 oneHotLabels = tar.cuda()\n",
    "            else:\n",
    "                inputs, labels = X, Y # Unpack variables into inputs and labels\n",
    "\n",
    "            outputs = trans_model(inputs)\n",
    "            loss = criterion(outputs, labels)\n",
    "            epoch_train_loss += loss.item()\n",
    "            \n",
    "#             if iter > 0:\n",
    "#                 print('Batch #' + str(iter) + ' training error: ' + str(loss.item()))\n",
    "            \n",
    "            speakSoftlyAndCarryABigStick = F.softmax(outputs, dim = 1) #softmax along the number of class dimension\n",
    "            indexes = torch.argmax(speakSoftlyAndCarryABigStick, dim = 1) #get the argmax along the channel dimension\n",
    "            epoch_train_acc += pixel_acc(indexes, labels) \n",
    "            \n",
    "            loss.backward()\n",
    "            optimizer.step()\n",
    "\n",
    "            if iter % 100 == 0:\n",
    "                print(\"epoch{}, iter{}, loss: {}\".format(epoch, iter, loss.item()))\n",
    "            #'''\n",
    "            if iter == 100:\n",
    "                break\n",
    "            #'''\n",
    "            \n",
    "        print(\"Finish epoch {}, time elapsed {}\".format(epoch, time.time() - ts))\n",
    "        del inputs, labels, outputs, loss, indexes, speakSoftlyAndCarryABigStick\n",
    "        torch.cuda.empty_cache()     \n",
    "        #torch.save(fcn_model, 'best_model')\n",
    "        print()\n",
    "        \n",
    "        t_losses.append(epoch_train_loss/numIter)\n",
    "        t_accuracies.append(epoch_train_acc/numIter)\n",
    "        \n",
    "        val_loss, val_acc = val(epoch)\n",
    "        val_losses.append(val_loss)\n",
    "        val_accuracies.append(val_acc)\n",
    "        \n",
    "        trans_model.train()\n",
    "    return t_losses, t_accuracies, val_losses, val_accuracies\n",
    "\n",
    "def val(epoch):\n",
    "    print(\"Validation Epoch {}\".format(epoch))\n",
    "    trans_model.eval()\n",
    "    #Complete this function - Calculate loss, accuracy and IoU for every epoch\n",
    "    valLoss = 0\n",
    "    valAcc = 0\n",
    "    numIter = 0\n",
    "    ts = time.time()\n",
    "    for iter, (X, _, Y) in enumerate(val_loader):\n",
    "            numIter +=1\n",
    "            if use_gpu:\n",
    "                torch.cuda.empty_cache() \n",
    "                inputs = X.cuda() # Move your inputs onto the gpu\n",
    "                labels = Y.cuda()\n",
    "#                 oneHotLabels = tar.cuda()\n",
    "            else:\n",
    "                inputs, labels = X, Y # Unpack variables into inputs and labels\n",
    "            \n",
    "            outputs = trans_model(inputs)\n",
    "            valLoss += criterion(outputs, labels).item()   \n",
    "            \n",
    "            speakSoftlyAndCarryABigStick = F.softmax(outputs, dim = 1) #softmax along the number of class dimension\n",
    "            indexes = torch.argmax(speakSoftlyAndCarryABigStick, dim = 1) #get the argmax along the channel dimension\n",
    "            \n",
    "            '''\n",
    "            #Only use for one batch\n",
    "            \n",
    "            print(\"Model output size (not one-hot encoded):\", indexes.size())\n",
    "            print(indexes)\n",
    "            print(\"Original label size (not one-hot encoded):\", labels.size())\n",
    "            print(labels)\n",
    "            print()\n",
    "            print(\"Model output size for channel 30 (one-hot encoded):\", goGoGadgetSkis.size())\n",
    "            print(goGoGadgetSkis[0][30])\n",
    "            print(\"Original label size for channel 30 (one-hot encoded):\", oneHotLabels.size())\n",
    "            print(oneHotLabels[0][30])\n",
    "            print()\n",
    "            '''\n",
    "\n",
    "            valAcc += pixel_acc(indexes, labels)        \n",
    "            \n",
    "            #manage memory again...\n",
    "            del inputs, labels, outputs, indexes, speakSoftlyAndCarryABigStick\n",
    "            torch.cuda.empty_cache()            \n",
    "            \n",
    "            #'''\n",
    "            if iter == 20:\n",
    "                break\n",
    "            #'''\n",
    "            \n",
    "    valAcc = valAcc/numIter\n",
    "    valLoss = valLoss/numIter\n",
    "    print(\"epoch{}, validation loss: {}\".format(epoch, valLoss))\n",
    "    print(\"epoch{}, validation accuracy: {}\".format(epoch, valAcc))\n",
    "    print(\"Finish validation at epoch{}, time elapsed {}\".format(epoch, time.time() - ts))\n",
    "    print()\n",
    "    return valLoss, valAcc\n",
    "    \n",
    "def test():\n",
    "    #Complete this function - Calculate accuracy and IoU \n",
    "    # Make sure to include a softmax after the output from your model\n",
    "    speakSoftlyAndCarryABigStick = F.softmax(outputs, dim = 1)\n",
    "    \n",
    "if __name__ == \"__main__\":\n",
    "    val(0)  # show the accuracy before training\n",
    "    training_losses, training_accuracies, validation_losses, validation_accuracies = train()"
   ]
  },
  {
   "cell_type": "code",
   "execution_count": 9,
   "metadata": {},
   "outputs": [
    {
     "name": "stdout",
     "output_type": "stream",
     "text": [
      "[7.975638717708021, 1.7187529105951291, 1.2509735551210914, 1.0578822759118411, 1.028281262015352, 0.9688759286804954, 0.9068804471799643, 0.877395498280478, 0.8413033532624198, 0.8501270985839391, 0.850026276442084, 0.8322746582550578, 0.790505718181629, 0.8265484701288809, 0.7963420548061333]\n",
      "[46.08651671079124, 62.724411054806325, 69.35001615643893, 73.65619624801988, 73.74284715935735, 74.84779121852158, 76.15675060662498, 76.63912112169928, 77.54833517294902, 76.94294570696235, 76.82804667910332, 77.40838346701645, 78.41118774791752, 77.52772510641876, 77.92368816463863]\n",
      "[1.4899026609602428, 1.266342009816851, 1.0722641944885254, 0.9974027105740139, 0.8626991709073385, 0.9135913252830505, 0.9438171471868243, 0.9090085483732677, 0.8532511109397525, 0.7528614699840546, 0.7954604625701904, 0.8407395822661263, 0.8240142038890294, 0.8571108551252455, 0.7763912904830206]\n",
      "[64.44014443291559, 70.24309748695008, 73.82092551579551, 74.81383747524686, 77.8370251731267, 76.56364289541094, 75.63292109777059, 75.79863563416497, 77.40984795585511, 79.73999447292752, 78.7179780384851, 77.31734684535434, 77.76814793783522, 77.46371163262262, 78.95040057954333]\n"
     ]
    }
   ],
   "source": [
    "print(training_losses)\n",
    "print(training_accuracies)\n",
    "print(validation_losses)\n",
    "print(validation_accuracies)"
   ]
  },
  {
   "cell_type": "code",
   "execution_count": 10,
   "metadata": {},
   "outputs": [
    {
     "data": {
      "text/plain": [
       "Text(0.5, 1.0, 'Loss on training set and holdout set vs. number of epochs')"
      ]
     },
     "execution_count": 10,
     "metadata": {},
     "output_type": "execute_result"
    },
    {
     "data": {
      "image/png": "[encoded data removed]",
      "text/plain": [
       "<Figure size 864x576 with 1 Axes>"
      ]
     },
     "metadata": {
      "needs_background": "light"
     },
     "output_type": "display_data"
    }
   ],
   "source": [
    "fig,ax = plt.subplots(figsize=(12,8))\n",
    "ax.set_ylabel('Losses')\n",
    "ax.set_xlabel('Epochs')\n",
    "_=ax.plot(range(1, epochs+1), training_losses,'b-',color=\"blue\",label=\"train\")\n",
    "_=ax.plot(range(1, epochs+1), validation_losses,'b-',color=\"orange\",label=\"valid\")\n",
    "plt.legend()\n",
    "plt.title(\"Loss on training set and holdout set vs. number of epochs\")"
   ]
  },
  {
   "cell_type": "code",
   "execution_count": 11,
   "metadata": {
    "scrolled": false
   },
   "outputs": [
    {
     "data": {
      "text/plain": [
       "Text(0.5, 1.0, 'Accuracy on training set and holdout set vs. number of epochs')"
      ]
     },
     "execution_count": 11,
     "metadata": {},
     "output_type": "execute_result"
    },
    {
     "data": {
      "image/png": "[encoded data removed]",
      "text/plain": [
       "<Figure size 864x576 with 1 Axes>"
      ]
     },
     "metadata": {
      "needs_background": "light"
     },
     "output_type": "display_data"
    }
   ],
   "source": [
    "fig,ax = plt.subplots(figsize=(12,8))\n",
    "ax.set_ylabel('Accuracies')\n",
    "ax.set_xlabel('Epochs')\n",
    "_=ax.plot(range(1, epochs+1), training_accuracies,'b-',color=\"blue\",label=\"train\")\n",
    "_=ax.plot(range(1, epochs+1), validation_accuracies,'b-',color=\"orange\",label=\"valid\")\n",
    "plt.legend()\n",
    "plt.title(\"Accuracy on training set and holdout set vs. number of epochs\")"
   ]
  },
  {
   "cell_type": "code",
   "execution_count": 43,
   "metadata": {},
   "outputs": [
    {
     "name": "stderr",
     "output_type": "stream",
     "text": [
      "/opt/conda/lib/python3.7/site-packages/torch/serialization.py:292: UserWarning: Couldn't retrieve source code for container of type TransResNet. It won't be checked for correctness upon loading.\n",
      "  \"type \" + obj.__name__ + \". It won't be checked \"\n",
      "/opt/conda/lib/python3.7/site-packages/torch/serialization.py:292: UserWarning: Couldn't retrieve source code for container of type Sequential. It won't be checked for correctness upon loading.\n",
      "  \"type \" + obj.__name__ + \". It won't be checked \"\n",
      "/opt/conda/lib/python3.7/site-packages/torch/serialization.py:292: UserWarning: Couldn't retrieve source code for container of type Conv2d. It won't be checked for correctness upon loading.\n",
      "  \"type \" + obj.__name__ + \". It won't be checked \"\n",
      "/opt/conda/lib/python3.7/site-packages/torch/serialization.py:292: UserWarning: Couldn't retrieve source code for container of type BatchNorm2d. It won't be checked for correctness upon loading.\n",
      "  \"type \" + obj.__name__ + \". It won't be checked \"\n",
      "/opt/conda/lib/python3.7/site-packages/torch/serialization.py:292: UserWarning: Couldn't retrieve source code for container of type ReLU. It won't be checked for correctness upon loading.\n",
      "  \"type \" + obj.__name__ + \". It won't be checked \"\n",
      "/opt/conda/lib/python3.7/site-packages/torch/serialization.py:292: UserWarning: Couldn't retrieve source code for container of type MaxPool2d. It won't be checked for correctness upon loading.\n",
      "  \"type \" + obj.__name__ + \". It won't be checked \"\n",
      "/opt/conda/lib/python3.7/site-packages/torch/serialization.py:292: UserWarning: Couldn't retrieve source code for container of type BasicBlock. It won't be checked for correctness upon loading.\n",
      "  \"type \" + obj.__name__ + \". It won't be checked \"\n",
      "/opt/conda/lib/python3.7/site-packages/torch/serialization.py:292: UserWarning: Couldn't retrieve source code for container of type ConvTranspose2d. It won't be checked for correctness upon loading.\n",
      "  \"type \" + obj.__name__ + \". It won't be checked \"\n"
     ]
    }
   ],
   "source": [
    "from torch import save\n",
    "import os\n",
    "# Save the model\n",
    "save(trans_model, os.path.join('Saved Models', 'resnet18_epoch' + str(epochs) +\n",
    "                               '_lr' + \"{:.0e}\".format(learning_rate)) + '.pt')"
   ]
  },
  {
   "cell_type": "code",
   "execution_count": 41,
   "metadata": {},
   "outputs": [
    {
     "data": {
      "text/plain": [
       "'/home/kkalhor/CSE253/PA3/github-pulls/PA3'"
      ]
     },
     "execution_count": 41,
     "metadata": {},
     "output_type": "execute_result"
    }
   ],
   "source": [
    "os.getcwd()"
   ]
  },
  {
   "cell_type": "code",
   "execution_count": 36,
   "metadata": {},
   "outputs": [],
   "source": [
    "learning_rate = 0.5e-3"
   ]
  },
  {
   "cell_type": "code",
   "execution_count": 39,
   "metadata": {},
   "outputs": [
    {
     "data": {
      "text/plain": [
       "'models/resnet18_epoch15_lr5e-04'"
      ]
     },
     "execution_count": 39,
     "metadata": {},
     "output_type": "execute_result"
    }
   ],
   "source": [
    "os.path.join('models', 'resnet18_epoch' + str(epochs) + '_lr' + \"{:.0e}\".format(learning_rate))"
   ]
  },
  {
   "cell_type": "code",
   "execution_count": 34,
   "metadata": {},
   "outputs": [],
   "source": [
    "import os"
   ]
  },
  {
   "cell_type": "code",
   "execution_count": null,
   "metadata": {},
   "outputs": [],
   "source": []
  }
 ],
 "metadata": {
  "kernelspec": {
   "display_name": "Python 3",
   "language": "python",
   "name": "python3"
  },
  "language_info": {
   "codemirror_mode": {
    "name": "ipython",
    "version": 3
   },
   "file_extension": ".py",
   "mimetype": "text/x-python",
   "name": "python",
   "nbconvert_exporter": "python",
   "pygments_lexer": "ipython3",
   "version": "3.7.3"
  }
 },
 "nbformat": 4,
 "nbformat_minor": 2
}
