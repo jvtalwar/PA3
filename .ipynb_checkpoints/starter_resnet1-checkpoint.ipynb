{
 "cells": [
  {
   "cell_type": "code",
   "execution_count": 1,
   "metadata": {},
   "outputs": [],
   "source": [
    "from torchvision import utils\n",
    "from basic_fcn import *\n",
    "from dataloader import *\n",
    "from utils import *\n",
    "import torchvision\n",
    "import torch.nn.functional as F\n",
    "import torch.optim as optim\n",
    "from torch.autograd import Variable\n",
    "import time\n",
    "import matplotlib.pyplot as plt"
   ]
  },
  {
   "cell_type": "code",
   "execution_count": 2,
   "metadata": {},
   "outputs": [],
   "source": [
    "batch = 3\n",
    "train_dataset = CityScapesDataset(csv_file='train.csv')\n",
    "val_dataset = CityScapesDataset(csv_file='val.csv')\n",
    "test_dataset = CityScapesDataset(csv_file='test.csv')\n",
    "train_loader = DataLoader(dataset=train_dataset,\n",
    "                          batch_size=batch,\n",
    "                          num_workers=4,\n",
    "                          shuffle=True)\n",
    "val_loader = DataLoader(dataset=val_dataset,\n",
    "                          batch_size=batch,\n",
    "                          num_workers=4,\n",
    "                          shuffle=True)\n",
    "test_loader = DataLoader(dataset=test_dataset,\n",
    "                          batch_size=batch,\n",
    "                          num_workers=4,\n",
    "                          shuffle=True)"
   ]
  },
  {
   "cell_type": "code",
   "execution_count": 3,
   "metadata": {},
   "outputs": [
    {
     "name": "stdout",
     "output_type": "stream",
     "text": [
      "Number of training examples: 2975\n",
      "Number of validation examples: 500\n",
      "Number of test examples: 1525\n"
     ]
    }
   ],
   "source": [
    "# Inspect DataLoader objects\n",
    "print(\"Number of training examples:\", len(train_dataset))\n",
    "print(\"Number of validation examples:\", len(val_dataset))\n",
    "print(\"Number of test examples:\", len(test_dataset))"
   ]
  },
  {
   "cell_type": "code",
   "execution_count": 4,
   "metadata": {},
   "outputs": [
    {
     "name": "stdout",
     "output_type": "stream",
     "text": [
      "Training set example image file: /datasets/cityscapes/leftImg8bit/train/aachen/aachen_000000_000019_leftImg8bit.png\n",
      "Training set example label file: /datasets/cityscapes/gtFine/train/aachen/aachen_000000_000019_gtFine_labelIds.png\n",
      "Size of the image tensor: torch.Size([3, 1024, 2048])\n",
      "Size of the one-hot target tensor: torch.Size([34, 1024, 2048])\n",
      "Size of the label tensor: torch.Size([1024, 2048])\n",
      "tensor([[3, 3, 3,  ..., 3, 3, 3],\n",
      "        [3, 3, 3,  ..., 3, 3, 3],\n",
      "        [3, 3, 3,  ..., 3, 3, 3],\n",
      "        ...,\n",
      "        [3, 3, 3,  ..., 3, 3, 3],\n",
      "        [3, 3, 3,  ..., 3, 3, 3],\n",
      "        [3, 3, 3,  ..., 3, 3, 3]])\n"
     ]
    }
   ],
   "source": [
    "# Look at a dataset data\n",
    "example = train_dataset[0]\n",
    "print(\"Training set example image file:\", train_dataset.data.iloc[0][0])\n",
    "print(\"Training set example label file:\", train_dataset.data.iloc[0][1])\n",
    "print(\"Size of the image tensor:\", example[0].size())\n",
    "print(\"Size of the one-hot target tensor:\", example[1].size())\n",
    "print(\"Size of the label tensor:\", example[2].size())\n",
    "print(example[2])"
   ]
  },
  {
   "cell_type": "code",
   "execution_count": 5,
   "metadata": {},
   "outputs": [
    {
     "name": "stdout",
     "output_type": "stream",
     "text": [
      "torch.Size([3, 3, 1024, 2048])\n",
      "torch.Size([3, 34, 1024, 2048])\n",
      "torch.Size([3, 1024, 2048])\n"
     ]
    }
   ],
   "source": [
    "for i_batch, sample_batched in enumerate(train_loader):\n",
    "    print(sample_batched[0].size())\n",
    "    print(sample_batched[1].size())\n",
    "    print(sample_batched[2].size())\n",
    "    break"
   ]
  },
  {
   "cell_type": "code",
   "execution_count": null,
   "metadata": {},
   "outputs": [],
   "source": [
    "# picking the model\n",
    "res1 = torchvision.models.resnet18(pretrained=True)\n",
    "\n",
    "# Freezing the encoder part\n",
    "for param in res1.parameters():\n",
    "    param.requires_grad = False\n",
    "\n",
    "# Adding a new decoder\n",
    "n_features = res1.fc.out_features\n",
    "res1.fc = nn.Linear(in_features = n_features, out_features = n_class, bias = True)\n",
    "\n",
    "trans_model = res1"
   ]
  },
  {
   "cell_type": "code",
   "execution_count": 19,
   "metadata": {},
   "outputs": [],
   "source": [
    "epochs     = 5\n",
    "criterion = nn.CrossEntropyLoss()\n",
    "fcn_model = FCN(n_class=n_class)\n",
    "fcn_model.apply(init_weights)\n",
    "#fcn_model = torch.load('best_model')\n",
    "optimizer = optim.Adam(fcn_model.parameters(), lr=5e-3)"
   ]
  },
  {
   "cell_type": "code",
   "execution_count": 7,
   "metadata": {},
   "outputs": [
    {
     "name": "stdout",
     "output_type": "stream",
     "text": [
      "[('conv1', Conv2d(3, 64, kernel_size=(7, 7), stride=(2, 2), padding=(3, 3), bias=False)), ('bn1', BatchNorm2d(64, eps=1e-05, momentum=0.1, affine=True, track_running_stats=True)), ('relu', ReLU(inplace=True)), ('maxpool', MaxPool2d(kernel_size=3, stride=2, padding=1, dilation=1, ceil_mode=False)), ('layer1', Sequential(\n",
      "  (0): BasicBlock(\n",
      "    (conv1): Conv2d(64, 64, kernel_size=(3, 3), stride=(1, 1), padding=(1, 1), bias=False)\n",
      "    (bn1): BatchNorm2d(64, eps=1e-05, momentum=0.1, affine=True, track_running_stats=True)\n",
      "    (relu): ReLU(inplace=True)\n",
      "    (conv2): Conv2d(64, 64, kernel_size=(3, 3), stride=(1, 1), padding=(1, 1), bias=False)\n",
      "    (bn2): BatchNorm2d(64, eps=1e-05, momentum=0.1, affine=True, track_running_stats=True)\n",
      "  )\n",
      "  (1): BasicBlock(\n",
      "    (conv1): Conv2d(64, 64, kernel_size=(3, 3), stride=(1, 1), padding=(1, 1), bias=False)\n",
      "    (bn1): BatchNorm2d(64, eps=1e-05, momentum=0.1, affine=True, track_running_stats=True)\n",
      "    (relu): ReLU(inplace=True)\n",
      "    (conv2): Conv2d(64, 64, kernel_size=(3, 3), stride=(1, 1), padding=(1, 1), bias=False)\n",
      "    (bn2): BatchNorm2d(64, eps=1e-05, momentum=0.1, affine=True, track_running_stats=True)\n",
      "  )\n",
      ")), ('layer2', Sequential(\n",
      "  (0): BasicBlock(\n",
      "    (conv1): Conv2d(64, 128, kernel_size=(3, 3), stride=(2, 2), padding=(1, 1), bias=False)\n",
      "    (bn1): BatchNorm2d(128, eps=1e-05, momentum=0.1, affine=True, track_running_stats=True)\n",
      "    (relu): ReLU(inplace=True)\n",
      "    (conv2): Conv2d(128, 128, kernel_size=(3, 3), stride=(1, 1), padding=(1, 1), bias=False)\n",
      "    (bn2): BatchNorm2d(128, eps=1e-05, momentum=0.1, affine=True, track_running_stats=True)\n",
      "    (downsample): Sequential(\n",
      "      (0): Conv2d(64, 128, kernel_size=(1, 1), stride=(2, 2), bias=False)\n",
      "      (1): BatchNorm2d(128, eps=1e-05, momentum=0.1, affine=True, track_running_stats=True)\n",
      "    )\n",
      "  )\n",
      "  (1): BasicBlock(\n",
      "    (conv1): Conv2d(128, 128, kernel_size=(3, 3), stride=(1, 1), padding=(1, 1), bias=False)\n",
      "    (bn1): BatchNorm2d(128, eps=1e-05, momentum=0.1, affine=True, track_running_stats=True)\n",
      "    (relu): ReLU(inplace=True)\n",
      "    (conv2): Conv2d(128, 128, kernel_size=(3, 3), stride=(1, 1), padding=(1, 1), bias=False)\n",
      "    (bn2): BatchNorm2d(128, eps=1e-05, momentum=0.1, affine=True, track_running_stats=True)\n",
      "  )\n",
      ")), ('layer3', Sequential(\n",
      "  (0): BasicBlock(\n",
      "    (conv1): Conv2d(128, 256, kernel_size=(3, 3), stride=(2, 2), padding=(1, 1), bias=False)\n",
      "    (bn1): BatchNorm2d(256, eps=1e-05, momentum=0.1, affine=True, track_running_stats=True)\n",
      "    (relu): ReLU(inplace=True)\n",
      "    (conv2): Conv2d(256, 256, kernel_size=(3, 3), stride=(1, 1), padding=(1, 1), bias=False)\n",
      "    (bn2): BatchNorm2d(256, eps=1e-05, momentum=0.1, affine=True, track_running_stats=True)\n",
      "    (downsample): Sequential(\n",
      "      (0): Conv2d(128, 256, kernel_size=(1, 1), stride=(2, 2), bias=False)\n",
      "      (1): BatchNorm2d(256, eps=1e-05, momentum=0.1, affine=True, track_running_stats=True)\n",
      "    )\n",
      "  )\n",
      "  (1): BasicBlock(\n",
      "    (conv1): Conv2d(256, 256, kernel_size=(3, 3), stride=(1, 1), padding=(1, 1), bias=False)\n",
      "    (bn1): BatchNorm2d(256, eps=1e-05, momentum=0.1, affine=True, track_running_stats=True)\n",
      "    (relu): ReLU(inplace=True)\n",
      "    (conv2): Conv2d(256, 256, kernel_size=(3, 3), stride=(1, 1), padding=(1, 1), bias=False)\n",
      "    (bn2): BatchNorm2d(256, eps=1e-05, momentum=0.1, affine=True, track_running_stats=True)\n",
      "  )\n",
      ")), ('layer4', Sequential(\n",
      "  (0): BasicBlock(\n",
      "    (conv1): Conv2d(256, 512, kernel_size=(3, 3), stride=(2, 2), padding=(1, 1), bias=False)\n",
      "    (bn1): BatchNorm2d(512, eps=1e-05, momentum=0.1, affine=True, track_running_stats=True)\n",
      "    (relu): ReLU(inplace=True)\n",
      "    (conv2): Conv2d(512, 512, kernel_size=(3, 3), stride=(1, 1), padding=(1, 1), bias=False)\n",
      "    (bn2): BatchNorm2d(512, eps=1e-05, momentum=0.1, affine=True, track_running_stats=True)\n",
      "    (downsample): Sequential(\n",
      "      (0): Conv2d(256, 512, kernel_size=(1, 1), stride=(2, 2), bias=False)\n",
      "      (1): BatchNorm2d(512, eps=1e-05, momentum=0.1, affine=True, track_running_stats=True)\n",
      "    )\n",
      "  )\n",
      "  (1): BasicBlock(\n",
      "    (conv1): Conv2d(512, 512, kernel_size=(3, 3), stride=(1, 1), padding=(1, 1), bias=False)\n",
      "    (bn1): BatchNorm2d(512, eps=1e-05, momentum=0.1, affine=True, track_running_stats=True)\n",
      "    (relu): ReLU(inplace=True)\n",
      "    (conv2): Conv2d(512, 512, kernel_size=(3, 3), stride=(1, 1), padding=(1, 1), bias=False)\n",
      "    (bn2): BatchNorm2d(512, eps=1e-05, momentum=0.1, affine=True, track_running_stats=True)\n",
      "  )\n",
      ")), ('avgpool', AdaptiveAvgPool2d(output_size=(1, 1))), ('fc', Linear(in_features=1000, out_features=34, bias=True))]\n"
     ]
    }
   ],
   "source": [
    "print([c for c in res1.named_children()])"
   ]
  },
  {
   "cell_type": "code",
   "execution_count": null,
   "metadata": {
    "scrolled": true
   },
   "outputs": [
    {
     "name": "stdout",
     "output_type": "stream",
     "text": [
      "Validation Epoch 0\n",
      "epoch0, validation loss: 3.4906602132888067\n",
      "epoch0, validation accuracy: 0.32160622732979904\n",
      "Finish validation at epoch0, time elapsed 19.8589026927948\n",
      "\n",
      "Training Epoch 1\n",
      "epoch1, iter0, loss: 3.5535614490509033\n",
      "epoch1, iter100, loss: 1.9099392890930176\n",
      "Finish epoch 1, time elapsed 80.61368942260742\n",
      "\n",
      "Validation Epoch 1\n",
      "epoch1, validation loss: 2.257813056310018\n",
      "epoch1, validation accuracy: 24.633126788669166\n",
      "Finish validation at epoch1, time elapsed 20.21733522415161\n",
      "\n",
      "Training Epoch 2\n",
      "epoch2, iter0, loss: 2.69384765625\n"
     ]
    }
   ],
   "source": [
    "use_gpu = torch.cuda.is_available()\n",
    "if use_gpu:\n",
    "    fcn_model = fcn_model.cuda()\n",
    "    \n",
    "def train():\n",
    "    t_losses = []\n",
    "    t_accuracies = []\n",
    "    val_losses = []\n",
    "    val_accuracies = []\n",
    "    \n",
    "    for epoch in range(1, epochs+1):\n",
    "        print(\"Training Epoch {}\".format(epoch))\n",
    "        ts = time.time()\n",
    "        \n",
    "        numIter = 0\n",
    "        epoch_train_loss = 0\n",
    "        epoch_train_acc = 0\n",
    "        \n",
    "        for iter, (X, tar, Y) in enumerate(train_loader):\n",
    "            numIter +=1\n",
    "            optimizer.zero_grad()\n",
    "\n",
    "            if use_gpu:\n",
    "                inputs = X.cuda() # Move your inputs onto the gpu\n",
    "                labels = Y.cuda()\n",
    "                oneHotLabels = tar.cuda()\n",
    "            else:\n",
    "                inputs, oneHotLabels, labels = X, tar, Y # Unpack variables into inputs and labels\n",
    "\n",
    "            outputs = fcn_model(inputs)\n",
    "            loss = criterion(outputs, labels)\n",
    "            epoch_train_loss += loss.item()\n",
    "            \n",
    "            speakSoftlyAndCarryABigStick = F.softmax(outputs, dim = 1) #softmax along the number of class dimension\n",
    "            indexes = torch.argmax(speakSoftlyAndCarryABigStick, dim = 1) #get the argmax along the channel dimension\n",
    "            epoch_train_acc += pixel_acc(indexes, labels) \n",
    "            \n",
    "            loss.backward()\n",
    "            optimizer.step()\n",
    "\n",
    "            if iter % 100 == 0:\n",
    "                print(\"epoch{}, iter{}, loss: {}\".format(epoch, iter, loss.item()))\n",
    "            #'''\n",
    "            if iter == 100:\n",
    "                break\n",
    "            #'''\n",
    "            \n",
    "        print(\"Finish epoch {}, time elapsed {}\".format(epoch, time.time() - ts))\n",
    "        del inputs, oneHotLabels, labels, outputs, loss, indexes, speakSoftlyAndCarryABigStick\n",
    "        torch.cuda.empty_cache()     \n",
    "        #torch.save(fcn_model, 'best_model')\n",
    "        print()\n",
    "        \n",
    "        t_losses.append(epoch_train_loss/numIter)\n",
    "        t_accuracies.append(epoch_train_acc/numIter)\n",
    "        \n",
    "        val_loss, val_acc = val(epoch)\n",
    "        val_losses.append(val_loss)\n",
    "        val_accuracies.append(val_acc)\n",
    "        \n",
    "        fcn_model.train()\n",
    "    return t_losses, t_accuracies, val_losses, val_accuracies\n",
    "\n",
    "def val(epoch):\n",
    "    print(\"Validation Epoch {}\".format(epoch))\n",
    "    fcn_model.eval()\n",
    "    #Complete this function - Calculate loss, accuracy and IoU for every epoch\n",
    "    valLoss = 0\n",
    "    valAcc = 0\n",
    "    numIter = 0\n",
    "    ts = time.time()\n",
    "    for iter, (X, tar, Y) in enumerate(val_loader):\n",
    "            numIter +=1\n",
    "            if use_gpu:\n",
    "                torch.cuda.empty_cache() \n",
    "                inputs = X.cuda() # Move your inputs onto the gpu\n",
    "                labels = Y.cuda()\n",
    "                oneHotLabels = tar.cuda()\n",
    "            else:\n",
    "                inputs, oneHotLabels, labels = X, tar, Y # Unpack variables into inputs and labels\n",
    "            \n",
    "            outputs = fcn_model(inputs)\n",
    "            valLoss += criterion(outputs, labels).item()   \n",
    "            \n",
    "            speakSoftlyAndCarryABigStick = F.softmax(outputs, dim = 1) #softmax along the number of class dimension\n",
    "            indexes = torch.argmax(speakSoftlyAndCarryABigStick, dim = 1) #get the argmax along the channel dimension\n",
    "            \n",
    "            '''\n",
    "            #Only use for one batch\n",
    "            \n",
    "            print(\"Model output size (not one-hot encoded):\", indexes.size())\n",
    "            print(indexes)\n",
    "            print(\"Original label size (not one-hot encoded):\", labels.size())\n",
    "            print(labels)\n",
    "            print()\n",
    "            print(\"Model output size for channel 30 (one-hot encoded):\", goGoGadgetSkis.size())\n",
    "            print(goGoGadgetSkis[0][30])\n",
    "            print(\"Original label size for channel 30 (one-hot encoded):\", oneHotLabels.size())\n",
    "            print(oneHotLabels[0][30])\n",
    "            print()\n",
    "            '''\n",
    "\n",
    "            valAcc += pixel_acc(indexes, labels)        \n",
    "            \n",
    "            #manage memory again...\n",
    "            del inputs, oneHotLabels, labels, outputs, indexes, speakSoftlyAndCarryABigStick\n",
    "            torch.cuda.empty_cache()            \n",
    "            \n",
    "            #'''\n",
    "            if iter == 20:\n",
    "                break\n",
    "            #'''\n",
    "            \n",
    "    valAcc = valAcc/numIter\n",
    "    valLoss = valLoss/numIter\n",
    "    print(\"epoch{}, validation loss: {}\".format(epoch, valLoss))\n",
    "    print(\"epoch{}, validation accuracy: {}\".format(epoch, valAcc))\n",
    "    print(\"Finish validation at epoch{}, time elapsed {}\".format(epoch, time.time() - ts))\n",
    "    print()\n",
    "    return valLoss, valAcc\n",
    "    \n",
    "def test():\n",
    "    #Complete this function - Calculate accuracy and IoU \n",
    "    # Make sure to include a softmax after the output from your model\n",
    "    speakSoftlyAndCarryABigStick = F.softmax(outputs, dim = 1)\n",
    "    \n",
    "if __name__ == \"__main__\":\n",
    "    val(0)  # show the accuracy before training\n",
    "    training_losses, training_accuracies, validation_losses, validation_accuracies = train()"
   ]
  },
  {
   "cell_type": "code",
   "execution_count": 11,
   "metadata": {},
   "outputs": [
    {
     "name": "stdout",
     "output_type": "stream",
     "text": [
      "[2.3556067813741097, 1.9241227631521698, 1.579360587762134, 1.4690417116231258, 1.429165287773208]\n",
      "[29.531908507394338, 46.20494858266499, 56.37598981951723, 59.210427916876164, 60.29908129877781]\n",
      "[2.174155757540748, 1.8371953737168085, 1.8453382083347865, 2.607903684888567, 1.6063461757841564]\n",
      "[32.8402594914512, 47.90053973122249, 51.73889114743187, 39.78296007428851, 57.93083811563157]\n"
     ]
    }
   ],
   "source": [
    "print(training_losses)\n",
    "print(training_accuracies)\n",
    "print(validation_losses)\n",
    "print(validation_accuracies)"
   ]
  },
  {
   "cell_type": "code",
   "execution_count": 12,
   "metadata": {},
   "outputs": [
    {
     "data": {
      "text/plain": [
       "Text(0.5, 1.0, 'Loss on training set and holdout set vs. number of epochs')"
      ]
     },
     "execution_count": 12,
     "metadata": {},
     "output_type": "execute_result"
    },
    {
     "data": {
      "image/png": "[encoded data removed]",
      "text/plain": [
       "<Figure size 864x576 with 1 Axes>"
      ]
     },
     "metadata": {
      "needs_background": "light"
     },
     "output_type": "display_data"
    }
   ],
   "source": [
    "fig,ax = plt.subplots(figsize=(12,8))\n",
    "ax.set_ylabel('Losses')\n",
    "ax.set_xlabel('Epochs')\n",
    "_=ax.plot(range(1, epochs+1), training_losses,'b-',color=\"blue\",label=\"train\")\n",
    "_=ax.plot(range(1, epochs+1), validation_losses,'b-',color=\"orange\",label=\"valid\")\n",
    "plt.legend()\n",
    "plt.title(\"Loss on training set and holdout set vs. number of epochs\")"
   ]
  },
  {
   "cell_type": "code",
   "execution_count": 13,
   "metadata": {},
   "outputs": [
    {
     "data": {
      "text/plain": [
       "Text(0.5, 1.0, 'Accuracy on training set and holdout set vs. number of epochs')"
      ]
     },
     "execution_count": 13,
     "metadata": {},
     "output_type": "execute_result"
    },
    {
     "data": {
      "image/png": "[encoded data removed]",
      "text/plain": [
       "<Figure size 864x576 with 1 Axes>"
      ]
     },
     "metadata": {
      "needs_background": "light"
     },
     "output_type": "display_data"
    }
   ],
   "source": [
    "fig,ax = plt.subplots(figsize=(12,8))\n",
    "ax.set_ylabel('Accuracies')\n",
    "ax.set_xlabel('Epochs')\n",
    "_=ax.plot(range(1, epochs+1), training_accuracies,'b-',color=\"blue\",label=\"train\")\n",
    "_=ax.plot(range(1, epochs+1), validation_accuracies,'b-',color=\"orange\",label=\"valid\")\n",
    "plt.legend()\n",
    "plt.title(\"Accuracy on training set and holdout set vs. number of epochs\")"
   ]
  },
  {
   "cell_type": "code",
   "execution_count": null,
   "metadata": {},
   "outputs": [],
   "source": []
  }
 ],
 "metadata": {
  "kernelspec": {
   "display_name": "Python 3",
   "language": "python",
   "name": "python3"
  },
  "language_info": {
   "codemirror_mode": {
    "name": "ipython",
    "version": 3
   },
   "file_extension": ".py",
   "mimetype": "text/x-python",
   "name": "python",
   "nbconvert_exporter": "python",
   "pygments_lexer": "ipython3",
   "version": "3.7.3"
  }
 },
 "nbformat": 4,
 "nbformat_minor": 2
}
