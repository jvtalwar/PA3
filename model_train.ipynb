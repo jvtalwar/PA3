{
 "cells": [
  {
   "cell_type": "markdown",
   "metadata": {},
   "source": [
    "### <font color=\"red\">Before training, run the following bash command!!!</font>"
   ]
  },
  {
   "cell_type": "code",
   "execution_count": null,
   "metadata": {},
   "outputs": [],
   "source": [
    "#Will allow you to go past jupyter session timeout\n",
    "#!launch-scipy-ml-gpu.sh K8S_TIMEOUT_SECONDS=43200 -b"
   ]
  },
  {
   "cell_type": "code",
   "execution_count": 1,
   "metadata": {},
   "outputs": [],
   "source": [
    "from torchvision import utils\n",
    "from basic_fcn import *\n",
    "from dataloader import *\n",
    "from utils import *\n",
    "import torchvision\n",
    "import torch.nn.functional as F\n",
    "import torch.optim as optim\n",
    "from torch.autograd import Variable\n",
    "import time\n",
    "import matplotlib.pyplot as plt"
   ]
  },
  {
   "cell_type": "code",
   "execution_count": 2,
   "metadata": {},
   "outputs": [],
   "source": [
    "batch = 4\n",
    "train_dataset = CityScapesDataset(csv_file='train.csv')\n",
    "val_dataset = CityScapesDataset(csv_file='val.csv')\n",
    "test_dataset = CityScapesDataset(csv_file='test.csv')\n",
    "train_loader = DataLoader(dataset=train_dataset,\n",
    "                          batch_size=batch,\n",
    "                          num_workers=4,\n",
    "                          shuffle=True)\n",
    "val_loader = DataLoader(dataset=val_dataset,\n",
    "                          batch_size=batch,\n",
    "                          num_workers=4,\n",
    "                          shuffle=True)\n",
    "test_loader = DataLoader(dataset=test_dataset,\n",
    "                          batch_size=batch,\n",
    "                          num_workers=4,\n",
    "                          shuffle=True)"
   ]
  },
  {
   "cell_type": "code",
   "execution_count": 3,
   "metadata": {},
   "outputs": [],
   "source": [
    "%%capture\n",
    "'''\n",
    "# Inspect DataLoader objects\n",
    "print(\"Number of training examples:\", len(train_dataset))\n",
    "print(\"Number of validation examples:\", len(val_dataset))\n",
    "print(\"Number of test examples:\", len(test_dataset))\n",
    "\n",
    "# Look at a dataset data\n",
    "example = train_dataset[0]\n",
    "print(\"Training set example image file:\", train_dataset.data.iloc[0][0])\n",
    "print(\"Training set example label file:\", train_dataset.data.iloc[0][1])\n",
    "print(\"Size of the image tensor:\", example[0].size())\n",
    "print(\"Size of the one-hot target tensor:\", example[1].size())\n",
    "print(\"Size of the label tensor:\", example[2].size())\n",
    "print(example[2])\n",
    "for i_batch, sample_batched in enumerate(train_loader):\n",
    "    print(sample_batched[0].size())\n",
    "    print(sample_batched[1].size())\n",
    "    print(sample_batched[2].size())\n",
    "    break\n",
    "'''"
   ]
  },
  {
   "cell_type": "code",
   "execution_count": 4,
   "metadata": {},
   "outputs": [],
   "source": [
    "def init_weights(m):\n",
    "    if isinstance(m, nn.Conv2d) or isinstance(m, nn.ConvTranspose2d):\n",
    "        torch.nn.init.xavier_uniform_(m.weight.data)\n",
    "        torch.nn.init.xavier_uniform_(m.bias.data.unsqueeze(0)) #add unsqueeze here "
   ]
  },
  {
   "cell_type": "code",
   "execution_count": 5,
   "metadata": {},
   "outputs": [],
   "source": [
    "def train0(model, loss_fn, weights=None):\n",
    "    print(\"Training Epoch 0\")\n",
    "    \n",
    "    model.eval()\n",
    "    trainLoss = 0\n",
    "    trainAcc = 0\n",
    "    numIter = 0\n",
    "    soMuchTension = torch.Tensor([0 for i in range(n_class)]) #intersection\n",
    "    theresATigerInTheBathroom = torch.Tensor([0 for i in range(n_class)]) #union\n",
    "    ts = time.time()\n",
    "    \n",
    "    for iter, (X, tar, Y) in enumerate(val_loader):\n",
    "        numIter +=1\n",
    "        if use_gpu:\n",
    "            torch.cuda.empty_cache() \n",
    "            inputs = X.cuda()\n",
    "            #one_hot_labels = tar.cuda()\n",
    "            labels = Y.cuda()\n",
    "        else:\n",
    "            inputs, one_hot_labels, labels = X, tar, Y\n",
    "        \n",
    "        outputs = model(inputs)\n",
    "        \n",
    "        if weights == None:\n",
    "            trainLoss += loss_fn(outputs, labels).item()\n",
    "        \n",
    "        else:\n",
    "            trainLoss += weighted_cross_entropy(outputs, labels, weights).item()\n",
    "        #del one_hot_labels\n",
    "        \n",
    "        speakSoftlyAndCarryABigStick = F.softmax(outputs, dim = 1) #softmax along the number of class dimension\n",
    "        del inputs, outputs\n",
    "        \n",
    "        indexes = torch.argmax(speakSoftlyAndCarryABigStick, dim = 1) #get the argmax along the channel dimension      \n",
    "        del speakSoftlyAndCarryABigStick\n",
    "        \n",
    "        trainAcc += pixel_acc(indexes, labels)\n",
    "        \n",
    "        theEyesHaveIt, spaceBalls = iou(indexes, labels, n_class) #intersection, union\n",
    "        del labels, indexes\n",
    "        \n",
    "        soMuchTension = soMuchTension + theEyesHaveIt\n",
    "        del theEyesHaveIt\n",
    "        \n",
    "        theresATigerInTheBathroom = theresATigerInTheBathroom + spaceBalls\n",
    "        del spaceBalls\n",
    "        \n",
    "        torch.cuda.empty_cache()\n",
    "        \n",
    "        #'''\n",
    "        if iter == 2:\n",
    "            break\n",
    "        #'''\n",
    "        \n",
    "    iOweYouMoney = torch.div(soMuchTension, theresATigerInTheBathroom)\n",
    "    del soMuchTension, theresATigerInTheBathroom\n",
    "    \n",
    "    print()\n",
    "    trainAcc = trainAcc/numIter\n",
    "    trainLoss = trainLoss/numIter\n",
    "    print(\"epoch0, train loss: {}\".format(trainLoss))\n",
    "    print(\"epoch0, train accuracy: {}\".format(trainAcc))\n",
    "    print(\"The building IOU is: \" + str(iOweYouMoney[11].item()))\n",
    "    print(\"The traffic sign IOU is: \" + str(iOweYouMoney[20].item()))\n",
    "    print(\"The person IOU is: \" + str(iOweYouMoney[24].item()))\n",
    "    print(\"The car IOU is: \" + str(iOweYouMoney[26].item()))\n",
    "    print(\"The bicycle IOU is: \" + str(iOweYouMoney[33].item()))\n",
    "    print(\"The average IOU is: \" + str(MeanIOU(iOweYouMoney)))\n",
    "    print(\"Finish validation at epoch0, time elapsed {}\".format(time.time() - ts))\n",
    "    print(\"Current memory allocation:\", torch.cuda.memory_allocated())\n",
    "    print()\n",
    "    return trainLoss, trainAcc, iOweYouMoney"
   ]
  },
  {
   "cell_type": "code",
   "execution_count": 6,
   "metadata": {},
   "outputs": [],
   "source": [
    "def val(model, loss_fn, epoch, weights=None):\n",
    "\n",
    "    print(\"Validation Epoch {}\".format(epoch))\n",
    "    \n",
    "    model.eval()\n",
    "    valLoss = 0\n",
    "    valAcc = 0\n",
    "    numIter = 0\n",
    "    soMuchTension = torch.Tensor([0 for i in range(n_class)]) #intersection\n",
    "    theresATigerInTheBathroom = torch.Tensor([0 for i in range(n_class)]) #union\n",
    "    ts = time.time()\n",
    "    \n",
    "    for iter, (X, tar, Y) in enumerate(val_loader):\n",
    "        numIter +=1\n",
    "        if use_gpu:\n",
    "            torch.cuda.empty_cache() \n",
    "            inputs = X.cuda()\n",
    "            #one_hot_labels = tar.cuda()\n",
    "            labels = Y.cuda()\n",
    "        else:\n",
    "            inputs, one_hot_labels, labels = X, tar, Y\n",
    "            \n",
    "        outputs = model(inputs)\n",
    "        \n",
    "        if weights == None:\n",
    "            valLoss += loss_fn(outputs, labels).item()\n",
    "        \n",
    "        else:\n",
    "            valLoss += weighted_cross_entropy(outputs, labels, weights).item()\n",
    "        #del one_hot_labels\n",
    "        \n",
    "        speakSoftlyAndCarryABigStick = F.softmax(outputs, dim = 1) #softmax along the number of class dimension\n",
    "        del inputs, outputs\n",
    "        \n",
    "        indexes = torch.argmax(speakSoftlyAndCarryABigStick, dim = 1) #get the argmax along the channel dimension      \n",
    "        del speakSoftlyAndCarryABigStick\n",
    "        \n",
    "        valAcc += pixel_acc(indexes, labels)\n",
    "        theEyesHaveIt, spaceBalls = iou(indexes, labels, n_class) #intersection, union\n",
    "        del labels, indexes\n",
    "        \n",
    "        soMuchTension = soMuchTension + theEyesHaveIt\n",
    "        del theEyesHaveIt\n",
    "        \n",
    "        theresATigerInTheBathroom = theresATigerInTheBathroom + spaceBalls\n",
    "        del spaceBalls\n",
    "        \n",
    "        torch.cuda.empty_cache()\n",
    "        \n",
    "        #'''\n",
    "        if iter == 2:\n",
    "            break\n",
    "        #'''\n",
    "        \n",
    "    iOweYouMoney = torch.div(soMuchTension, theresATigerInTheBathroom)\n",
    "    del soMuchTension, theresATigerInTheBathroom\n",
    "    \n",
    "    print()\n",
    "    valAcc = valAcc/numIter\n",
    "    valLoss = valLoss/numIter\n",
    "    print(\"epoch{}, validation loss: {}\".format(epoch, valLoss))\n",
    "    print(\"epoch{}, validation accuracy: {}\".format(epoch, valAcc))\n",
    "    print(\"The building IOU is: \" + str(iOweYouMoney[11].item()))\n",
    "    print(\"The traffic sign IOU is: \" + str(iOweYouMoney[20].item()))\n",
    "    print(\"The person IOU is: \" + str(iOweYouMoney[24].item()))\n",
    "    print(\"The car IOU is: \" + str(iOweYouMoney[26].item()))\n",
    "    print(\"The bicycle IOU is: \" + str(iOweYouMoney[33].item()))\n",
    "    print(\"The average IOU is: \" + str(MeanIOU(iOweYouMoney)))\n",
    "    print(\"Finish validation at epoch{}, time elapsed {}\".format(epoch, time.time() - ts))\n",
    "    print(\"Current memory allocation:\", torch.cuda.memory_allocated())\n",
    "    print()\n",
    "    return valLoss, valAcc, iOweYouMoney\n",
    "   "
   ]
  },
  {
   "cell_type": "code",
   "execution_count": 27,
   "metadata": {},
   "outputs": [],
   "source": [
    "def train(model, loss_fn, epochs, weights=None):\n",
    "    t_losses = []\n",
    "    t_accuracies = []\n",
    "    val_losses = []\n",
    "    val_accuracies = []\n",
    "    ious = []\n",
    "    \n",
    "    for epoch in range(1, epochs+1):\n",
    "        \n",
    "        print(\"Training Epoch {}\".format(epoch))\n",
    "        ts = time.time()\n",
    "        \n",
    "        numIter = 0\n",
    "        epoch_train_loss = 0\n",
    "        epoch_train_acc = 0\n",
    "        \n",
    "        for iter, (X, tar, Y) in enumerate(train_loader):\n",
    "            numIter +=1\n",
    "            optimizer.zero_grad()\n",
    "\n",
    "            if use_gpu:\n",
    "                torch.cuda.empty_cache() \n",
    "                inputs = X.cuda() # Move your inputs onto the gpu\n",
    "                #one_hot_labels = tar.cuda()\n",
    "                labels = Y.cuda()\n",
    "            else:\n",
    "                inputs, labels = X, Y # Unpack variables into inputs and labels\n",
    "\n",
    "            outputs = model(inputs)\n",
    "            del inputs\n",
    "            \n",
    "            if weights == None:\n",
    "                loss = loss_fn(outputs, labels)         \n",
    "                epoch_train_loss += loss.item()\n",
    "        \n",
    "            else:\n",
    "                loss = weighted_cross_entropy(outputs, labels, weights)\n",
    "                epoch_train_loss += loss.item()\n",
    "            #del one_hot_labels\n",
    "            \n",
    "            speakSoftlyAndCarryABigStick = F.softmax(outputs, dim = 1) #softmax along the number of class dimension\n",
    "            del outputs\n",
    "            \n",
    "            indexes = torch.argmax(speakSoftlyAndCarryABigStick, dim = 1) #get the argmax along the channel dimension\n",
    "            del(speakSoftlyAndCarryABigStick)\n",
    "            \n",
    "            epoch_train_acc += pixel_acc(indexes, labels)\n",
    "            del indexes, labels\n",
    "            \n",
    "            loss.backward()\n",
    "            optimizer.step()\n",
    "            torch.cuda.empty_cache()    \n",
    "            \n",
    "            if iter % 100 == 0:\n",
    "                print(\"epoch{}, iter{}, loss: {}\".format(epoch, iter, loss.item()))\n",
    "                  \n",
    "            #'''\n",
    "            if iter == 10:\n",
    "                break\n",
    "            #'''\n",
    "              \n",
    "        print(\"Finish epoch {}, time elapsed {}\".format(epoch, time.time() - ts))\n",
    "        print(\"epoch{}, training accuracy: {}\".format(epoch, epoch_train_acc/numIter))\n",
    "        print(\"Current memory allocation:\", torch.cuda.memory_allocated()) \n",
    "        \n",
    "        #torch.save('best_model')\n",
    "        print()\n",
    "        \n",
    "        t_losses.append(epoch_train_loss/numIter)\n",
    "        t_accuracies.append(epoch_train_acc/numIter)\n",
    "        \n",
    "        val_loss, val_acc, iou = val(model, loss_fn, epoch)\n",
    "        val_losses.append(val_loss)\n",
    "        val_accuracies.append(val_acc)\n",
    "        ious.append(iou)\n",
    "        model.train()\n",
    "        \n",
    "    return t_losses, t_accuracies, val_losses, val_accuracies, ious\n"
   ]
  },
  {
   "cell_type": "code",
   "execution_count": 8,
   "metadata": {},
   "outputs": [],
   "source": [
    "def test():\n",
    "    #Complete this function - Calculate accuracy and IoU \n",
    "    # Make sure to include a softmax after the output from your model\n",
    "    pass\n",
    "  "
   ]
  },
  {
   "cell_type": "code",
   "execution_count": 28,
   "metadata": {
    "scrolled": false
   },
   "outputs": [
    {
     "name": "stdout",
     "output_type": "stream",
     "text": [
      "Training Epoch 0\n",
      "\n",
      "epoch0, train loss: 3.5538087685902915\n",
      "epoch0, train accuracy: 4.8737936433099165\n",
      "The building IOU is: 0.0\n",
      "The traffic sign IOU is: 0.0\n",
      "The person IOU is: 0.0\n",
      "The car IOU is: 0.0\n",
      "The bicycle IOU is: 0.0\n",
      "The average IOU is: 0.0033349524087765638\n",
      "Finish validation at epoch0, time elapsed 11.406251192092896\n",
      "Current memory allocation: 22555136\n",
      "\n",
      "Validation Epoch 0\n",
      "\n",
      "epoch0, validation loss: 3.574642022450765\n",
      "epoch0, validation accuracy: 3.2757280240082154\n",
      "The building IOU is: 0.0\n",
      "The traffic sign IOU is: 0.0\n",
      "The person IOU is: 0.0\n",
      "The car IOU is: 0.0\n",
      "The bicycle IOU is: 0.0\n",
      "The average IOU is: 0.0021174466785262615\n",
      "Finish validation at epoch0, time elapsed 11.572416543960571\n",
      "Current memory allocation: 22555136\n",
      "\n",
      "Training Epoch 1\n",
      "epoch1, iter0, loss: 3.5532631874084473\n",
      "Finish epoch 1, time elapsed 23.45323610305786\n",
      "epoch1, training accuracy: 16.023635135471977\n",
      "Current memory allocation: 90150400\n",
      "\n",
      "Validation Epoch 1\n",
      "\n",
      "epoch1, validation loss: 2.4584480126698813\n",
      "epoch1, validation accuracy: 31.07000601349635\n",
      "The building IOU is: 0.14856426417827606\n",
      "The traffic sign IOU is: 0.0\n",
      "The person IOU is: 0.0\n",
      "The car IOU is: 0.0\n",
      "The bicycle IOU is: 0.0\n",
      "The average IOU is: 0.023415650758478377\n",
      "Finish validation at epoch1, time elapsed 10.951968669891357\n",
      "Current memory allocation: 90150400\n",
      "\n",
      "Training Epoch 2\n",
      "epoch2, iter0, loss: 3.189340591430664\n",
      "Finish epoch 2, time elapsed 22.79889965057373\n",
      "epoch2, training accuracy: 27.733890663689422\n",
      "Current memory allocation: 90150400\n",
      "\n",
      "Validation Epoch 2\n",
      "\n",
      "epoch2, validation loss: 4.7099372545878095\n",
      "epoch2, validation accuracy: 35.16373173814942\n",
      "The building IOU is: 0.003451592056080699\n",
      "The traffic sign IOU is: 0.0\n",
      "The person IOU is: 0.0\n",
      "The car IOU is: 0.0\n",
      "The bicycle IOU is: 0.0\n",
      "The average IOU is: 0.01749221187654055\n",
      "Finish validation at epoch2, time elapsed 10.153755187988281\n",
      "Current memory allocation: 90150400\n",
      "\n",
      "CPU times: user 8.74 s, sys: 23.7 s, total: 32.5 s\n",
      "Wall time: 1min 31s\n"
     ]
    }
   ],
   "source": [
    "%%time\n",
    "\n",
    "if __name__ == \"__main__\":\n",
    "    epochs = 2\n",
    "    \n",
    "    class_weights = torch.FloatTensor(1/np.load('total_pixel_weights.npy'))\n",
    "    class_weights = n_class * class_weights/class_weights.sum()\n",
    "    \n",
    "    criterion = nn.CrossEntropyLoss()\n",
    "    weighted_criterion = nn.CrossEntropyLoss(weight=class_weights)\n",
    "    \n",
    "    fcn_model = FCN(n_class=n_class)\n",
    "    fcn_model.apply(init_weights)\n",
    "    #fcn_model = torch.load('best_model')  # For when we have a best model to test\n",
    "    optimizer = optim.Adam(fcn_model.parameters(), lr=5e-3)\n",
    "    \n",
    "    use_gpu = torch.cuda.is_available()\n",
    "    if use_gpu:\n",
    "        fcn_model = fcn_model.cuda()\n",
    "    \n",
    "    train_0 = train0(fcn_model, criterion)\n",
    "    validation_0 = val(fcn_model, criterion, 0)  # show the accuracy before training\n",
    "    training_losses, training_accuracies, validation_losses, validation_accuracies, validation_ious = train(fcn_model, criterion, epochs)\n",
    "        \n",
    "    training_losses.insert(0, train_0[0])\n",
    "    training_accuracies.insert(0, train_0[1])    \n",
    "    validation_losses.insert(0, validation_0[0])\n",
    "    validation_accuracies.insert(0, validation_0[1])\n",
    "    validation_ious.insert(0, validation_0[2])"
   ]
  },
  {
   "cell_type": "code",
   "execution_count": 19,
   "metadata": {},
   "outputs": [
    {
     "name": "stdout",
     "output_type": "stream",
     "text": [
      "3\n",
      "3\n",
      "3\n",
      "3\n",
      "3\n"
     ]
    }
   ],
   "source": [
    "print(len(training_losses))\n",
    "print(len(training_accuracies))\n",
    "print(len(validation_losses))\n",
    "print(len(validation_accuracies))\n",
    "print(len(validation_ious))"
   ]
  },
  {
   "cell_type": "code",
   "execution_count": 20,
   "metadata": {},
   "outputs": [
    {
     "data": {
      "text/plain": [
       "Text(0.5, 1.0, 'Loss on training set and holdout set vs. number of epochs')"
      ]
     },
     "execution_count": 20,
     "metadata": {},
     "output_type": "execute_result"
    },
    {
     "data": {
      "image/png": "[encoded data removed]",
      "text/plain": [
       "<Figure size 432x360 with 1 Axes>"
      ]
     },
     "metadata": {
      "needs_background": "light"
     },
     "output_type": "display_data"
    }
   ],
   "source": [
    "fig,ax = plt.subplots(figsize=(6,5))\n",
    "ax.set_ylabel('Losses')\n",
    "ax.set_xlabel('Epochs')\n",
    "_=ax.plot(range(0, epochs+1), training_losses,'b-',color=\"blue\",label=\"train\")\n",
    "_=ax.plot(range(0, epochs+1), validation_losses,'b-',color=\"orange\",label=\"valid\")\n",
    "plt.legend()\n",
    "plt.title(\"Loss on training set and holdout set vs. number of epochs\")"
   ]
  },
  {
   "cell_type": "code",
   "execution_count": 21,
   "metadata": {},
   "outputs": [
    {
     "data": {
      "text/plain": [
       "Text(0.5, 1.0, 'Accuracy on training set and holdout set vs. number of epochs')"
      ]
     },
     "execution_count": 21,
     "metadata": {},
     "output_type": "execute_result"
    },
    {
     "data": {
      "image/png": "[encoded data removed]",
      "text/plain": [
       "<Figure size 432x360 with 1 Axes>"
      ]
     },
     "metadata": {
      "needs_background": "light"
     },
     "output_type": "display_data"
    }
   ],
   "source": [
    "fig,ax = plt.subplots(figsize=(6,5))\n",
    "ax.set_ylabel('Accuracies')\n",
    "ax.set_xlabel('Epochs')\n",
    "_=ax.plot(range(0, epochs+1), training_accuracies,'b-',color=\"blue\",label=\"train\")\n",
    "_=ax.plot(range(0, epochs+1), validation_accuracies,'b-',color=\"orange\",label=\"valid\")\n",
    "plt.legend()\n",
    "plt.title(\"Accuracy on training set and holdout set vs. number of epochs\")"
   ]
  },
  {
   "cell_type": "code",
   "execution_count": 23,
   "metadata": {},
   "outputs": [],
   "source": [
    "iou_dict = {\n",
    "    \"building\": [],\n",
    "    \"traffic sign\": [],\n",
    "    \"person\": [],\n",
    "    \"car\": [],\n",
    "    \"bicycle\": [],\n",
    "    \"average\": []\n",
    "}"
   ]
  },
  {
   "cell_type": "code",
   "execution_count": 24,
   "metadata": {},
   "outputs": [],
   "source": [
    "for el in validation_ious:\n",
    "    iou_dict[\"building\"].append(el[11].item())\n",
    "    iou_dict[\"traffic sign\"].append(el[20].item())\n",
    "    iou_dict[\"person\"].append(el[24].item())\n",
    "    iou_dict[\"car\"].append(el[26].item())\n",
    "    iou_dict[\"bicycle\"].append(el[33].item())\n",
    "    iou_dict[\"average\"].append(MeanIOU(el))"
   ]
  },
  {
   "cell_type": "code",
   "execution_count": 25,
   "metadata": {},
   "outputs": [],
   "source": [
    "iou_df = pd.DataFrame(iou_dict)"
   ]
  },
  {
   "cell_type": "code",
   "execution_count": 26,
   "metadata": {},
   "outputs": [
    {
     "data": {
      "text/plain": [
       "Text(0.5, 1.0, 'IoU on training set and holdout set vs. number of epochs')"
      ]
     },
     "execution_count": 26,
     "metadata": {},
     "output_type": "execute_result"
    },
    {
     "data": {
      "image/png": "[encoded data removed]",
      "text/plain": [
       "<Figure size 864x576 with 1 Axes>"
      ]
     },
     "metadata": {
      "needs_background": "light"
     },
     "output_type": "display_data"
    }
   ],
   "source": [
    "fig,ax = plt.subplots(figsize=(12,8))\n",
    "ax.set_ylabel('IoUs')\n",
    "ax.set_xlabel('Epochs')\n",
    "_=ax.plot(iou_df)\n",
    "plt.legend(labels=iou_df.columns)\n",
    "plt.title(\"IoU on training set and holdout set vs. number of epochs\")"
   ]
  },
  {
   "cell_type": "code",
   "execution_count": null,
   "metadata": {},
   "outputs": [],
   "source": [
    "#import dill"
   ]
  },
  {
   "cell_type": "code",
   "execution_count": null,
   "metadata": {},
   "outputs": [],
   "source": [
    "#dill.dump_session('25_epoch_training_w_iou_02_11_2020')"
   ]
  }
 ],
 "metadata": {
  "kernelspec": {
   "display_name": "Python 3",
   "language": "python",
   "name": "python3"
  },
  "language_info": {
   "codemirror_mode": {
    "name": "ipython",
    "version": 3
   },
   "file_extension": ".py",
   "mimetype": "text/x-python",
   "name": "python",
   "nbconvert_exporter": "python",
   "pygments_lexer": "ipython3",
   "version": "3.7.3"
  }
 },
 "nbformat": 4,
 "nbformat_minor": 2
}
